{
 "cells": [
  {
   "cell_type": "markdown",
   "metadata": {},
   "source": [
    "# TODOs\n",
    "1. ### <s> Lemmatize input - Good\n",
    "2. ### <s> Replace CNNs with KAN-CNNs - Won't learn, Revisit last\n",
    "3. ### Prune and test\n",
    "4. ### <s> B-spline Finetuning - Best with splines = 3\n",
    "5. ### CNN operates on whole embedded lvl - test on various depths (3, 9, 27, 81)\n",
    "6. ### Deeper CNN - 1 + 3 + 5 gram feed into Deep CNN -> KAN \n",
    "7. ### <s> Data Augmentation\n",
    "8. ### Limit Vocab Size\n",
    "9. ### Try Word2Vec or Glove pre-trained"
   ]
  },
  {
   "cell_type": "code",
   "execution_count": 1,
   "metadata": {},
   "outputs": [
    {
     "name": "stdout",
     "output_type": "stream",
     "text": [
      "cuda\n"
     ]
    }
   ],
   "source": [
    "from fastkan import FastKAN as KAN\n",
    "\n",
    "import pandas as pd\n",
    "import numpy as np\n",
    "\n",
    "import torch\n",
    "import torch.nn as nn\n",
    "import torch.nn.functional as F\n",
    "import torch.optim as optim\n",
    "import torchvision\n",
    "import torchvision.transforms as transforms\n",
    "from torch.utils.data import DataLoader, TensorDataset\n",
    "\n",
    "from fastkan import FastKAN as KAN\n",
    "\n",
    "from tqdm import tqdm\n",
    "tqdm.pandas()\n",
    "\n",
    "from sklearn.model_selection import train_test_split\n",
    "\n",
    "import torchtext\n",
    "torchtext.disable_torchtext_deprecation_warning()\n",
    "\n",
    "from torchtext.datasets import IMDB\n",
    "from transformers import GPT2Tokenizer\n",
    "\n",
    "device = torch.device(\"cuda\" if torch.cuda.is_available() else \"cpu\")\n",
    "print(device)"
   ]
  },
  {
   "cell_type": "code",
   "execution_count": 2,
   "metadata": {},
   "outputs": [
    {
     "name": "stderr",
     "output_type": "stream",
     "text": [
      "[nltk_data] Downloading package punkt to\n",
      "[nltk_data]     C:\\Users\\kaloq\\AppData\\Roaming\\nltk_data...\n",
      "[nltk_data]   Package punkt is already up-to-date!\n",
      "[nltk_data] Downloading package stopwords to\n",
      "[nltk_data]     C:\\Users\\kaloq\\AppData\\Roaming\\nltk_data...\n",
      "[nltk_data]   Package stopwords is already up-to-date!\n",
      "[nltk_data] Downloading package wordnet to\n",
      "[nltk_data]     C:\\Users\\kaloq\\AppData\\Roaming\\nltk_data...\n",
      "[nltk_data]   Package wordnet is already up-to-date!\n"
     ]
    },
    {
     "data": {
      "text/plain": [
       "True"
      ]
     },
     "execution_count": 2,
     "metadata": {},
     "output_type": "execute_result"
    }
   ],
   "source": [
    "import nltk\n",
    "from nltk.corpus import stopwords\n",
    "from nltk.tokenize import word_tokenize\n",
    "from nltk.stem import WordNetLemmatizer\n",
    "import re\n",
    "\n",
    "# Download necessary NLTK data\n",
    "nltk.download('punkt')\n",
    "nltk.download('stopwords')\n",
    "nltk.download('wordnet')"
   ]
  },
  {
   "cell_type": "code",
   "execution_count": 3,
   "metadata": {},
   "outputs": [],
   "source": [
    "#data = pd.read_csv('./imdb.csv')\n",
    "#data.head()\n",
    "\n",
    "train = pd.read_csv(\"./data/imdb_train_original.csv\")\n",
    "test = pd.read_csv(\"./data/imdb_test.csv\")"
   ]
  },
  {
   "cell_type": "code",
   "execution_count": 4,
   "metadata": {},
   "outputs": [],
   "source": [
    "# print(train.head)\n",
    "# print(test.head)"
   ]
  },
  {
   "cell_type": "code",
   "execution_count": 5,
   "metadata": {},
   "outputs": [
    {
     "name": "stderr",
     "output_type": "stream",
     "text": [
      "100%|██████████| 40000/40000 [00:00<00:00, 1290138.26it/s]\n",
      "100%|██████████| 10000/10000 [00:00<00:00, 1246635.16it/s]\n"
     ]
    }
   ],
   "source": [
    "# Convert labels to binary\n",
    "def transform_label(label):\n",
    "    return 1 if label == 'positive' else 0\n",
    "\n",
    "train['label'] = train['sentiment'].progress_apply(transform_label)\n",
    "test['label'] = test['sentiment'].progress_apply(transform_label)"
   ]
  },
  {
   "cell_type": "code",
   "execution_count": 6,
   "metadata": {},
   "outputs": [
    {
     "data": {
      "text/plain": [
       "sentiment\n",
       "positive    20027\n",
       "negative    19973\n",
       "Name: count, dtype: int64"
      ]
     },
     "execution_count": 6,
     "metadata": {},
     "output_type": "execute_result"
    }
   ],
   "source": [
    "# # Check for dataset imbalance\n",
    "train.sentiment.value_counts()"
   ]
  },
  {
   "cell_type": "code",
   "execution_count": 7,
   "metadata": {},
   "outputs": [],
   "source": [
    "# # Review token length\n",
    "# train['token_length'] = train.review.progress_apply(lambda x: len(x.split()))\n",
    "# train.head()"
   ]
  },
  {
   "cell_type": "code",
   "execution_count": 8,
   "metadata": {},
   "outputs": [],
   "source": [
    "# data_pos = train[train['label'] == 1]\n",
    "# print(\"Positive review length\")\n",
    "# data_pos['token_length'].describe()"
   ]
  },
  {
   "cell_type": "code",
   "execution_count": 9,
   "metadata": {},
   "outputs": [],
   "source": [
    "# data_neg = train[train['label'] == 0]\n",
    "# print(\"Negative review length\")\n",
    "# data_neg['token_length'].describe()"
   ]
  },
  {
   "cell_type": "code",
   "execution_count": 10,
   "metadata": {},
   "outputs": [],
   "source": [
    "stop_words = set(stopwords.words('english'))\n",
    "\n",
    "def preprocess_text(text):\n",
    "    # Lowercase the text\n",
    "    text = text.lower()\n",
    "    \n",
    "    # Remove HTML tags\n",
    "    text = re.sub(r'<.*?>', ' ', text)\n",
    "    \n",
    "    # Remove punctuation and special characters\n",
    "    text = re.sub(r'[^a-zA-Z0-9\\s]', ' ', text)\n",
    "\n",
    "    # \n",
    "    words = word_tokenize(text)\n",
    "    sent = [word for word in words if word not in stop_words]\n",
    "    sent = ' '.join(sent)\n",
    "    \n",
    "    return sent"
   ]
  },
  {
   "cell_type": "code",
   "execution_count": 11,
   "metadata": {},
   "outputs": [
    {
     "name": "stderr",
     "output_type": "stream",
     "text": [
      "100%|██████████| 40000/40000 [00:18<00:00, 2135.26it/s]\n",
      "100%|██████████| 10000/10000 [00:04<00:00, 2146.02it/s]\n"
     ]
    }
   ],
   "source": [
    "# Preprocessing\n",
    "train['clean'] = train.review.progress_apply(preprocess_text)\n",
    "test['clean'] = test.review.progress_apply(preprocess_text)"
   ]
  },
  {
   "cell_type": "code",
   "execution_count": 12,
   "metadata": {},
   "outputs": [
    {
     "name": "stdout",
     "output_type": "stream",
     "text": [
      "                                              review sentiment  label  \\\n",
      "0  I write this after just seeing the latest epis...  positive      1   \n",
      "1  Awful movie. It's a shame that a few of Flande...  negative      0   \n",
      "2  An apt description by Spock of an all-powerful...  positive      1   \n",
      "3  Presenting Lily Mars (MGM, 1943) is a cute fil...  positive      1   \n",
      "4  SNL is pretty funny but people who say this is...  negative      0   \n",
      "\n",
      "                                               clean  \n",
      "0  write seeing latest episode broadcast uk must ...  \n",
      "1  awful movie shame flanders top actors actresse...  \n",
      "2  apt description spock powerful fop whose clutc...  \n",
      "3  presenting lily mars mgm 1943 cute film opinio...  \n",
      "4  snl pretty funny people say like watching shor...  \n"
     ]
    }
   ],
   "source": [
    "print(train.head())\n",
    "# print(test.head())"
   ]
  },
  {
   "cell_type": "code",
   "execution_count": 13,
   "metadata": {},
   "outputs": [],
   "source": [
    "tokenizer = GPT2Tokenizer.from_pretrained('gpt2')"
   ]
  },
  {
   "cell_type": "code",
   "execution_count": 14,
   "metadata": {},
   "outputs": [],
   "source": [
    "lemmatizer = WordNetLemmatizer()\n",
    "def lemmatize_text(text):\n",
    "    # Tokenize the text if necessary\n",
    "    words = text.split()\n",
    "    # Lemmatize each word in the text\n",
    "    lemmatized_words = [lemmatizer.lemmatize(word) for word in words]\n",
    "    # Join the lemmatized words back into a string\n",
    "    lemmatized_text = ' '.join(lemmatized_words)\n",
    "    return lemmatized_text"
   ]
  },
  {
   "cell_type": "code",
   "execution_count": 15,
   "metadata": {},
   "outputs": [
    {
     "name": "stderr",
     "output_type": "stream",
     "text": [
      "100%|██████████| 40000/40000 [00:11<00:00, 3466.13it/s]\n",
      "100%|██████████| 10000/10000 [00:02<00:00, 3727.94it/s]\n"
     ]
    }
   ],
   "source": [
    "train['lemma'] = train['clean'].progress_apply(lemmatize_text)\n",
    "test['lemma'] = test['clean'].progress_apply(lemmatize_text)"
   ]
  },
  {
   "cell_type": "code",
   "execution_count": 16,
   "metadata": {},
   "outputs": [],
   "source": [
    "# for n in range(20):\n",
    "#     print(data['clean'][n])\n",
    "#     print(data['lemma'][n])"
   ]
  },
  {
   "cell_type": "code",
   "execution_count": 17,
   "metadata": {},
   "outputs": [
    {
     "name": "stderr",
     "output_type": "stream",
     "text": [
      "100%|██████████| 40000/40000 [00:23<00:00, 1675.56it/s]\n",
      "100%|██████████| 10000/10000 [00:05<00:00, 1755.91it/s]\n"
     ]
    }
   ],
   "source": [
    "tokenizer.pad_token = tokenizer.eos_token\n",
    "max_l = 256\n",
    "#data['tokenized'] = data.lemma.progress_apply(lambda x: tokenizer.encode(text=x, add_special_tokens=False, truncation=True, add_prefix_space=True, padding='max_length', max_length=max_l))\n",
    "train['tokenized'] = train.lemma.progress_apply(lambda x: tokenizer.encode(text=x, add_special_tokens=False, truncation=True, add_prefix_space=True, padding='max_length', max_length=max_l))\n",
    "test['tokenized'] = test.lemma.progress_apply(lambda x: tokenizer.encode(text=x, add_special_tokens=False, truncation=True, add_prefix_space=True, padding='max_length', max_length=max_l))"
   ]
  },
  {
   "cell_type": "code",
   "execution_count": 18,
   "metadata": {},
   "outputs": [],
   "source": [
    "# # Check actual tokenized text len\n",
    "# data['ct_length'] = data.tokenized.progress_apply(lambda x: len(x))\n",
    "# data_pos = data[data['label'] == 1]\n",
    "# data_pos['ct_length'].describe()"
   ]
  },
  {
   "cell_type": "code",
   "execution_count": 19,
   "metadata": {},
   "outputs": [],
   "source": [
    "# split the data\n",
    "# X = data.tokenized\n",
    "# y = data.label\n",
    "# X_train, X_test, y_train, y_test = train_test_split(X, y, test_size=0.2, random_state=37)\n",
    "X_train = train.tokenized\n",
    "y_train = train.label\n",
    "\n",
    "X_test = test.tokenized\n",
    "y_test = test.label\n",
    "\n",
    "# Convert to tensors\n",
    "X_train_tensor = torch.tensor(X_train.tolist()).to(device)\n",
    "X_test_tensor = torch.tensor(X_test.tolist()).to(device)\n",
    "y_train_tensor = torch.tensor(y_train.tolist()).to(device)\n",
    "y_test_tensor = torch.tensor(y_test.tolist()).to(device)\n",
    "\n",
    "# Create Datasets - tensors\n",
    "train_dataset = TensorDataset(X_train_tensor, y_train_tensor)\n",
    "test_dataset = TensorDataset(X_test_tensor, y_test_tensor)"
   ]
  },
  {
   "cell_type": "code",
   "execution_count": 36,
   "metadata": {},
   "outputs": [],
   "source": [
    "# Batch the data\n",
    "batch_size = 32\n",
    "train_loader = DataLoader(train_dataset, batch_size=batch_size, shuffle=True)\n",
    "test_loader = DataLoader(test_dataset, batch_size=batch_size, shuffle=False)"
   ]
  },
  {
   "cell_type": "code",
   "execution_count": 41,
   "metadata": {},
   "outputs": [
    {
     "data": {
      "text/plain": [
       "CustomCNN(\n",
       "  (embedding): Embedding(50257, 32)\n",
       "  (conv1): Conv2d(1, 256, kernel_size=(1, 32), stride=(1, 1))\n",
       "  (bn1): BatchNorm2d(256, eps=1e-05, momentum=0.1, affine=True, track_running_stats=True)\n",
       "  (pool1): MaxPool1d(kernel_size=2, stride=2, padding=0, dilation=1, ceil_mode=False)\n",
       "  (dropout1): Dropout(p=0.25, inplace=False)\n",
       "  (conv2): Conv2d(1, 256, kernel_size=(3, 32), stride=(1, 1), padding=(1, 0))\n",
       "  (bn2): BatchNorm2d(256, eps=1e-05, momentum=0.1, affine=True, track_running_stats=True)\n",
       "  (pool2): MaxPool1d(kernel_size=2, stride=2, padding=0, dilation=1, ceil_mode=False)\n",
       "  (dropout2): Dropout(p=0.25, inplace=False)\n",
       "  (conv3): Conv2d(1, 256, kernel_size=(5, 32), stride=(1, 1), padding=(2, 0))\n",
       "  (bn3): BatchNorm2d(256, eps=1e-05, momentum=0.1, affine=True, track_running_stats=True)\n",
       "  (pool3): MaxPool1d(kernel_size=2, stride=2, padding=0, dilation=1, ceil_mode=False)\n",
       "  (dropout3): Dropout(p=0.25, inplace=False)\n",
       "  (final_conv): Conv2d(768, 1024, kernel_size=(3, 3), stride=(1, 1), padding=(1, 1))\n",
       "  (bn_final): BatchNorm2d(1024, eps=1e-05, momentum=0.1, affine=True, track_running_stats=True)\n",
       "  (pool_final): MaxPool2d(kernel_size=(2, 1), stride=(2, 1), padding=0, dilation=1, ceil_mode=False)\n",
       "  (dropout_pcat1): Dropout(p=0.25, inplace=False)\n",
       "  (conv_pcat2): Conv2d(1024, 2048, kernel_size=(3, 3), stride=(1, 1), padding=(1, 1))\n",
       "  (bn_pcat2): BatchNorm2d(2048, eps=1e-05, momentum=0.1, affine=True, track_running_stats=True)\n",
       "  (pool_pcat2): MaxPool2d(kernel_size=(2, 1), stride=(2, 1), padding=0, dilation=1, ceil_mode=False)\n",
       "  (dropout_pcat2): Dropout(p=0.25, inplace=False)\n",
       "  (conv_pcat3): Conv2d(2048, 4096, kernel_size=(3, 3), stride=(1, 1), padding=(1, 1))\n",
       "  (bn_pcat3): BatchNorm2d(4096, eps=1e-05, momentum=0.1, affine=True, track_running_stats=True)\n",
       "  (pool_pcat3): MaxPool2d(kernel_size=(4, 1), stride=(4, 1), padding=0, dilation=1, ceil_mode=False)\n",
       "  (dropout_pcat3): Dropout(p=0.25, inplace=False)\n",
       "  (kan_pre): FastKAN(\n",
       "    (layers): ModuleList(\n",
       "      (0): FastKANLayer(\n",
       "        (layernorm): LayerNorm((32768,), eps=1e-05, elementwise_affine=True)\n",
       "        (rbf): RadialBasisFunction()\n",
       "        (spline_linear): SplineLinear(in_features=262144, out_features=256, bias=False)\n",
       "        (base_linear): Linear(in_features=32768, out_features=256, bias=True)\n",
       "      )\n",
       "    )\n",
       "  )\n",
       "  (kan): FastKAN(\n",
       "    (layers): ModuleList(\n",
       "      (0): FastKANLayer(\n",
       "        (layernorm): LayerNorm((256,), eps=1e-05, elementwise_affine=True)\n",
       "        (rbf): RadialBasisFunction()\n",
       "        (spline_linear): SplineLinear(in_features=2048, out_features=64, bias=False)\n",
       "        (base_linear): Linear(in_features=256, out_features=64, bias=True)\n",
       "      )\n",
       "      (1): FastKANLayer(\n",
       "        (layernorm): LayerNorm((64,), eps=1e-05, elementwise_affine=True)\n",
       "        (rbf): RadialBasisFunction()\n",
       "        (spline_linear): SplineLinear(in_features=512, out_features=8, bias=False)\n",
       "        (base_linear): Linear(in_features=64, out_features=8, bias=True)\n",
       "      )\n",
       "      (2): FastKANLayer(\n",
       "        (layernorm): LayerNorm((8,), eps=1e-05, elementwise_affine=True)\n",
       "        (rbf): RadialBasisFunction()\n",
       "        (spline_linear): SplineLinear(in_features=64, out_features=2, bias=False)\n",
       "        (base_linear): Linear(in_features=8, out_features=2, bias=True)\n",
       "      )\n",
       "    )\n",
       "  )\n",
       ")"
      ]
     },
     "execution_count": 41,
     "metadata": {},
     "output_type": "execute_result"
    }
   ],
   "source": [
    "import torch\n",
    "import torch.nn as nn\n",
    "import torch.nn.functional as F\n",
    "\n",
    "# BEST__SMALL\n",
    "# Model 89.38% ACC\n",
    "class CustomCNN(nn.Module):\n",
    "    def __init__(self, vocab_size, embed_dim):\n",
    "        super(CustomCNN, self).__init__()\n",
    "        \n",
    "        # Embedding layer\n",
    "        self.embedding = nn.Embedding(vocab_size, embed_dim)\n",
    "        \n",
    "        # Conv layers with different kernel sizes\n",
    "        self.conv1 = nn.Conv2d(1, 256, (1, embed_dim), padding=(0, 0))\n",
    "        self.bn1 = nn.BatchNorm2d(256)\n",
    "        self.pool1 = nn.MaxPool1d(2)\n",
    "        self.dropout1 = nn.Dropout(0.25) \n",
    "        \n",
    "        self.conv2 = nn.Conv2d(1, 256, (3, embed_dim), padding=(1, 0))\n",
    "        self.bn2 = nn.BatchNorm2d(256)\n",
    "        self.pool2 = nn.MaxPool1d(2)\n",
    "        self.dropout2 = nn.Dropout(0.25) \n",
    "        \n",
    "        self.conv3 = nn.Conv2d(1, 256, (5, embed_dim), padding=(2, 0))\n",
    "        self.bn3 = nn.BatchNorm2d(256)\n",
    "        self.pool3 = nn.MaxPool1d(2)\n",
    "        self.dropout3 = nn.Dropout(0.25) \n",
    "        \n",
    "        # Post PCAT Conv 1\n",
    "        self.final_conv = nn.Conv2d(3 * 256, 1024, (3, 3), padding=(1, 1))\n",
    "        \n",
    "        self.bn_final = nn.BatchNorm2d(1024)\n",
    "        self.pool_final = nn.MaxPool2d((2, 1))\n",
    "        self.dropout_pcat1 = nn.Dropout(0.25)\n",
    "\n",
    "        # Post PCAT Conv 2\n",
    "        self.conv_pcat2 = nn.Conv2d(1024, 2048, (3, 3), padding=(1, 1))\n",
    "\n",
    "        self.bn_pcat2 = nn.BatchNorm2d(2048)\n",
    "        self.pool_pcat2 = nn.MaxPool2d((2, 1))\n",
    "        self.dropout_pcat2 = nn.Dropout(0.25)\n",
    "\n",
    "        # Post PCAT Conv 3\n",
    "        self.conv_pcat3 = nn.Conv2d(2048, 4096, (3, 3), padding=(1, 1))\n",
    "\n",
    "        self.bn_pcat3 = nn.BatchNorm2d(4096)\n",
    "        self.pool_pcat3 = nn.MaxPool2d((4, 1))\n",
    "        self.dropout_pcat3 = nn.Dropout(0.25)\n",
    "        \n",
    "        # Replace dense layers with FastKAN\n",
    "        self.kan_pre = KAN([32768, 256], num_grids=8)\n",
    "        self.kan = KAN([256, 64, 8, 2], num_grids=8)\n",
    "        \n",
    "    def forward(self, x):\n",
    "        # x shape: (batch_size, seq_len)\n",
    "        \n",
    "        # Embedding\n",
    "        x = self.embedding(x)  # shape: (batch_size, seq_len, embed_dim)\n",
    "        x = x.unsqueeze(1)  # shape: (batch_size, 1, seq_len, embed_dim)\n",
    "        \n",
    "        # Conv layer 1\n",
    "        x1 = self.conv1(x)  # shape: (batch_size, 100, seq_len-0, 1)\n",
    "        x1 = self.bn1(x1)\n",
    "        x1 = F.relu(x1)\n",
    "        x1 = x1.squeeze(3)  # shape: (batch_size, 100, seq_len-0)\n",
    "        x1 = self.pool1(x1)  # shape: (batch_size, 100, (seq_len-0)//2)\n",
    "        x1 = self.dropout1(x1)\n",
    "        \n",
    "        # Conv layer 2\n",
    "        x2 = self.conv2(x)  # shape: (batch_size, 100, seq_len-2, 1)\n",
    "        x2 = self.bn2(x2)\n",
    "        x2 = F.relu(x2)\n",
    "        x2 = x2.squeeze(3)  # shape: (batch_size, 100, seq_len-2)\n",
    "        x2 = self.pool2(x2)  # shape: (batch_size, 100, (seq_len-2)//2)\n",
    "        x2 = self.dropout2(x2)\n",
    "        \n",
    "        # Conv layer 3\n",
    "        x3 = self.conv3(x)  # shape: (batch_size, 100, seq_len-4, 1)\n",
    "        x3 = self.bn3(x3)\n",
    "        x3 = F.relu(x3)\n",
    "        x3 = x3.squeeze(3)  # shape: (batch_size, 100, seq_len-4)\n",
    "        x3 = self.pool3(x3)  # shape: (batch_size, 100, (seq_len-4)//2)\n",
    "        x3 = self.dropout3(x3) \n",
    "        \n",
    "        # Concatenate along the channel dimension\n",
    "        x_cat = torch.cat((x1, x2, x3), dim=1)  # shape: (batch_size, 300, ...)\n",
    "        x_cat = x_cat.unsqueeze(3)  # shape: (batch_size, 300, ..., 1)\n",
    "        \n",
    "        # PCAT1 Conv2D layer\n",
    "        x_out = self.final_conv(x_cat)  # shape: (batch_size, 100, ..., 1)\n",
    "        x_out = self.bn_final(x_out)\n",
    "        x_out = F.relu(x_out)\n",
    "        x_out = self.pool_final(x_out)  # shape: (batch_size, 100, ..., 1)\n",
    "\n",
    "        x_out = self.dropout_pcat1(x_out)\n",
    "\n",
    "        # PCAT2 Conv2D layer\n",
    "        x_out = self.conv_pcat2(x_out)  # shape: (batch_size, 100, ..., 1)\n",
    "        x_out = self.bn_pcat2(x_out)\n",
    "        x_out = F.relu(x_out)\n",
    "        x_out = self.pool_pcat2(x_out)  # shape: (batch_size, 100, ..., 1)\n",
    "\n",
    "        # PCAT3 Conv2D layer\n",
    "        x_out = self.conv_pcat3(x_out)  # shape: (batch_size, 100, ..., 1)\n",
    "        x_out = self.bn_pcat3(x_out)\n",
    "        x_out = F.relu(x_out)\n",
    "        x_out = self.pool_pcat3(x_out)  # shape: (batch_size, 100, ..., 1)\n",
    "        \n",
    "        # Flatten the tensor for the dense layer\n",
    "        x_out = x_out.view(x_out.size(0), -1)  # shape: (batch_size, 100)\n",
    "        x_out = self.dropout_pcat3(x_out)\n",
    "        \n",
    "        # Dense layer\n",
    "        x_out = self.kan_pre(x_out)\n",
    "        x_out = self.kan(x_out)# shape: (batch_size, num_classes)\n",
    "        \n",
    "        return x_out\n",
    "\n",
    "# Hyperparams\n",
    "vocab_size = len(tokenizer)  # Vocabulary size of GPT-2 tokenizer\n",
    "embed_dim = 32  # Embedding dimension\n",
    "num_class = 2  # Number of classes (negative, positive)\n",
    "\n",
    "model = CustomCNN(vocab_size, embed_dim)\n",
    "model.to(device)"
   ]
  },
  {
   "cell_type": "code",
   "execution_count": 42,
   "metadata": {},
   "outputs": [],
   "source": [
    "#from torchinfo import summary\n",
    "#summary(model, input_size=(batch_size, max_l), dtypes=([torch.int64]), col_names=[\"kernel_size\", \"input_size\", \"output_size\", \"num_params\"])"
   ]
  },
  {
   "cell_type": "code",
   "execution_count": 43,
   "metadata": {},
   "outputs": [],
   "source": [
    "# Evaluation function\n",
    "def evaluate(model, test_loader):\n",
    "    model.eval()\n",
    "    correct = 0\n",
    "    total = 0\n",
    "    total_loss = 0\n",
    "    with torch.no_grad():\n",
    "        for texts, labels in test_loader:\n",
    "            outputs = model(texts)\n",
    "            loss = criterion(outputs, labels)\n",
    "            total_loss += loss.item()\n",
    "            correct += calculate_accuracy(outputs, labels)\n",
    "            total += labels.size(0)\n",
    "    accuracy = correct / total\n",
    "    avg_loss = total_loss / total\n",
    "    return accuracy, avg_loss"
   ]
  },
  {
   "cell_type": "code",
   "execution_count": 44,
   "metadata": {
    "scrolled": true
   },
   "outputs": [
    {
     "name": "stderr",
     "output_type": "stream",
     "text": [
      "Epoch 1/40: 100%|██████████| 1250/1250 [02:14<00:00,  9.29it/s, accuracy=0.502, loss=0.0222]\n"
     ]
    },
    {
     "name": "stdout",
     "output_type": "stream",
     "text": [
      "Epoch 1, Loss: 0.022202707362174987, Accuracy: 0.502225\n",
      "Val_Loss: 0.021710088032484056, Val_Accuracy: 0.5027\n"
     ]
    },
    {
     "name": "stderr",
     "output_type": "stream",
     "text": [
      "Epoch 2/40: 100%|██████████| 1250/1250 [02:14<00:00,  9.28it/s, accuracy=0.499, loss=0.0217]\n"
     ]
    },
    {
     "name": "stdout",
     "output_type": "stream",
     "text": [
      "Epoch 2, Loss: 0.021686692729592325, Accuracy: 0.499425\n",
      "Val_Loss: 0.021713240176439285, Val_Accuracy: 0.5027\n"
     ]
    },
    {
     "name": "stderr",
     "output_type": "stream",
     "text": [
      "Epoch 3/40: 100%|██████████| 1250/1250 [02:16<00:00,  9.14it/s, accuracy=0.7, loss=0.0166]  \n"
     ]
    },
    {
     "name": "stdout",
     "output_type": "stream",
     "text": [
      "Epoch 3, Loss: 0.01661953309252858, Accuracy: 0.699775\n",
      "Val_Loss: 0.010882410110533237, Val_Accuracy: 0.849\n"
     ]
    },
    {
     "name": "stderr",
     "output_type": "stream",
     "text": [
      "Epoch 4/40: 100%|██████████| 1250/1250 [02:14<00:00,  9.29it/s, accuracy=0.882, loss=0.00913]\n"
     ]
    },
    {
     "name": "stdout",
     "output_type": "stream",
     "text": [
      "Epoch 4, Loss: 0.009134930457361043, Accuracy: 0.88215\n",
      "Val_Loss: 0.009112197609990835, Val_Accuracy: 0.8875\n"
     ]
    },
    {
     "name": "stderr",
     "output_type": "stream",
     "text": [
      "Epoch 5/40: 100%|██████████| 1250/1250 [02:14<00:00,  9.28it/s, accuracy=0.906, loss=0.00764]\n"
     ]
    },
    {
     "name": "stdout",
     "output_type": "stream",
     "text": [
      "Epoch 5, Loss: 0.007638575794361532, Accuracy: 0.905725\n",
      "Val_Loss: 0.008621584913507103, Val_Accuracy: 0.8909\n"
     ]
    },
    {
     "name": "stderr",
     "output_type": "stream",
     "text": [
      "Epoch 6/40: 100%|██████████| 1250/1250 [02:14<00:00,  9.33it/s, accuracy=0.919, loss=0.00665]\n"
     ]
    },
    {
     "name": "stdout",
     "output_type": "stream",
     "text": [
      "Epoch 6, Loss: 0.00664668576894328, Accuracy: 0.918875\n",
      "Val_Loss: 0.008240277274698019, Val_Accuracy: 0.8954\n"
     ]
    },
    {
     "name": "stderr",
     "output_type": "stream",
     "text": [
      "Epoch 7/40: 100%|██████████| 1250/1250 [02:16<00:00,  9.19it/s, accuracy=0.933, loss=0.00566]\n"
     ]
    },
    {
     "name": "stdout",
     "output_type": "stream",
     "text": [
      "Epoch 7, Loss: 0.005662965477490798, Accuracy: 0.933175\n",
      "Val_Loss: 0.008796110573038458, Val_Accuracy: 0.8928\n"
     ]
    },
    {
     "name": "stderr",
     "output_type": "stream",
     "text": [
      "Epoch 8/40: 100%|██████████| 1250/1250 [02:14<00:00,  9.32it/s, accuracy=0.943, loss=0.00503]\n"
     ]
    },
    {
     "name": "stdout",
     "output_type": "stream",
     "text": [
      "Epoch 8, Loss: 0.005032771806186065, Accuracy: 0.94285\n",
      "Val_Loss: 0.00903471055701375, Val_Accuracy: 0.8938\n"
     ]
    },
    {
     "name": "stderr",
     "output_type": "stream",
     "text": [
      "Epoch 9/40: 100%|██████████| 1250/1250 [02:12<00:00,  9.45it/s, accuracy=0.951, loss=0.00432]\n"
     ]
    },
    {
     "name": "stdout",
     "output_type": "stream",
     "text": [
      "Epoch 9, Loss: 0.004319710858399048, Accuracy: 0.95095\n",
      "Val_Loss: 0.010208942409045994, Val_Accuracy: 0.8835\n"
     ]
    },
    {
     "name": "stderr",
     "output_type": "stream",
     "text": [
      "Epoch 10/40: 100%|██████████| 1250/1250 [02:12<00:00,  9.41it/s, accuracy=0.957, loss=0.00381]\n"
     ]
    },
    {
     "name": "stdout",
     "output_type": "stream",
     "text": [
      "Epoch 10, Loss: 0.0038108594294404613, Accuracy: 0.956775\n",
      "Val_Loss: 0.010213008493557572, Val_Accuracy: 0.8875\n"
     ]
    },
    {
     "name": "stderr",
     "output_type": "stream",
     "text": [
      "Epoch 11/40: 100%|██████████| 1250/1250 [02:11<00:00,  9.48it/s, accuracy=0.964, loss=0.00333]\n"
     ]
    },
    {
     "name": "stdout",
     "output_type": "stream",
     "text": [
      "Epoch 11, Loss: 0.0033292586619383655, Accuracy: 0.96425\n",
      "Val_Loss: 0.010775531477667391, Val_Accuracy: 0.8847\n"
     ]
    },
    {
     "name": "stderr",
     "output_type": "stream",
     "text": [
      "Epoch 12/40: 100%|██████████| 1250/1250 [02:12<00:00,  9.41it/s, accuracy=0.967, loss=0.00301]\n"
     ]
    },
    {
     "name": "stdout",
     "output_type": "stream",
     "text": [
      "Epoch 12, Loss: 0.003012155649275519, Accuracy: 0.96685\n",
      "Val_Loss: 0.012056928920559585, Val_Accuracy: 0.8827\n"
     ]
    },
    {
     "name": "stderr",
     "output_type": "stream",
     "text": [
      "Epoch 13/40: 100%|██████████| 1250/1250 [02:11<00:00,  9.49it/s, accuracy=0.972, loss=0.00267]\n"
     ]
    },
    {
     "name": "stdout",
     "output_type": "stream",
     "text": [
      "Epoch 13, Loss: 0.0026680968047818167, Accuracy: 0.97225\n",
      "Val_Loss: 0.01076184882633388, Val_Accuracy: 0.8857\n"
     ]
    },
    {
     "name": "stderr",
     "output_type": "stream",
     "text": [
      "Epoch 14/40: 100%|██████████| 1250/1250 [02:15<00:00,  9.24it/s, accuracy=0.974, loss=0.00235]\n"
     ]
    },
    {
     "name": "stdout",
     "output_type": "stream",
     "text": [
      "Epoch 14, Loss: 0.0023519486108329146, Accuracy: 0.974425\n",
      "Val_Loss: 0.012836991980485619, Val_Accuracy: 0.8802\n"
     ]
    },
    {
     "name": "stderr",
     "output_type": "stream",
     "text": [
      "Epoch 15/40: 100%|██████████| 1250/1250 [02:14<00:00,  9.32it/s, accuracy=0.979, loss=0.0021] \n"
     ]
    },
    {
     "name": "stdout",
     "output_type": "stream",
     "text": [
      "Epoch 15, Loss: 0.0020959786775521932, Accuracy: 0.978775\n",
      "Val_Loss: 0.014094327245932072, Val_Accuracy: 0.8779\n"
     ]
    },
    {
     "name": "stderr",
     "output_type": "stream",
     "text": [
      "Epoch 16/40: 100%|██████████| 1250/1250 [02:14<00:00,  9.30it/s, accuracy=0.983, loss=0.00173]\n"
     ]
    },
    {
     "name": "stdout",
     "output_type": "stream",
     "text": [
      "Epoch 16, Loss: 0.0017326657025943859, Accuracy: 0.9831\n",
      "Val_Loss: 0.014624160738801583, Val_Accuracy: 0.8705\n"
     ]
    },
    {
     "name": "stderr",
     "output_type": "stream",
     "text": [
      "Epoch 17/40: 100%|██████████| 1250/1250 [02:11<00:00,  9.50it/s, accuracy=0.984, loss=0.00165]\n"
     ]
    },
    {
     "name": "stdout",
     "output_type": "stream",
     "text": [
      "Epoch 17, Loss: 0.0016529686685535126, Accuracy: 0.983775\n",
      "Val_Loss: 0.013247411374468356, Val_Accuracy: 0.8779\n"
     ]
    },
    {
     "name": "stderr",
     "output_type": "stream",
     "text": [
      "Epoch 18/40: 100%|██████████| 1250/1250 [02:11<00:00,  9.49it/s, accuracy=0.985, loss=0.00156]\n"
     ]
    },
    {
     "name": "stdout",
     "output_type": "stream",
     "text": [
      "Epoch 18, Loss: 0.001557998308131937, Accuracy: 0.98485\n",
      "Val_Loss: 0.015028643723484128, Val_Accuracy: 0.8763\n"
     ]
    },
    {
     "name": "stderr",
     "output_type": "stream",
     "text": [
      "Epoch 19/40: 100%|██████████| 1250/1250 [02:11<00:00,  9.48it/s, accuracy=0.988, loss=0.0013] \n"
     ]
    },
    {
     "name": "stdout",
     "output_type": "stream",
     "text": [
      "Epoch 19, Loss: 0.001303161735937465, Accuracy: 0.987875\n",
      "Val_Loss: 0.015088826815178619, Val_Accuracy: 0.8687\n"
     ]
    },
    {
     "name": "stderr",
     "output_type": "stream",
     "text": [
      "Epoch 20/40: 100%|██████████| 1250/1250 [02:11<00:00,  9.50it/s, accuracy=0.988, loss=0.00125]\n"
     ]
    },
    {
     "name": "stdout",
     "output_type": "stream",
     "text": [
      "Epoch 20, Loss: 0.0012488308931002394, Accuracy: 0.9884\n",
      "Val_Loss: 0.016163036389742046, Val_Accuracy: 0.8741\n"
     ]
    },
    {
     "name": "stderr",
     "output_type": "stream",
     "text": [
      "Epoch 21/40: 100%|██████████| 1250/1250 [02:11<00:00,  9.50it/s, accuracy=0.991, loss=0.00104]\n"
     ]
    },
    {
     "name": "stdout",
     "output_type": "stream",
     "text": [
      "Epoch 21, Loss: 0.0010439354243688284, Accuracy: 0.990775\n",
      "Val_Loss: 0.017037593928165735, Val_Accuracy: 0.878\n"
     ]
    },
    {
     "name": "stderr",
     "output_type": "stream",
     "text": [
      "Epoch 22/40: 100%|██████████| 1250/1250 [02:11<00:00,  9.50it/s, accuracy=0.992, loss=0.000988]\n"
     ]
    },
    {
     "name": "stdout",
     "output_type": "stream",
     "text": [
      "Epoch 22, Loss: 0.0009884163664915832, Accuracy: 0.9919\n",
      "Val_Loss: 0.017206064600357784, Val_Accuracy: 0.8748\n"
     ]
    },
    {
     "name": "stderr",
     "output_type": "stream",
     "text": [
      "Epoch 23/40: 100%|██████████| 1250/1250 [02:11<00:00,  9.50it/s, accuracy=0.992, loss=0.000953]\n"
     ]
    },
    {
     "name": "stdout",
     "output_type": "stream",
     "text": [
      "Epoch 23, Loss: 0.0009529886704898672, Accuracy: 0.991925\n",
      "Val_Loss: 0.017614401877485215, Val_Accuracy: 0.8753\n"
     ]
    },
    {
     "name": "stderr",
     "output_type": "stream",
     "text": [
      "Epoch 24/40: 100%|██████████| 1250/1250 [02:11<00:00,  9.49it/s, accuracy=0.993, loss=0.000857]\n"
     ]
    },
    {
     "name": "stdout",
     "output_type": "stream",
     "text": [
      "Epoch 24, Loss: 0.0008566465679556132, Accuracy: 0.993325\n",
      "Val_Loss: 0.018181831430178135, Val_Accuracy: 0.8731\n"
     ]
    },
    {
     "name": "stderr",
     "output_type": "stream",
     "text": [
      "Epoch 25/40: 100%|██████████| 1250/1250 [02:11<00:00,  9.49it/s, accuracy=0.994, loss=0.000765]\n"
     ]
    },
    {
     "name": "stdout",
     "output_type": "stream",
     "text": [
      "Epoch 25, Loss: 0.0007650694613228552, Accuracy: 0.9939\n",
      "Val_Loss: 0.018208786193118432, Val_Accuracy: 0.8774\n"
     ]
    },
    {
     "name": "stderr",
     "output_type": "stream",
     "text": [
      "Epoch 26/40: 100%|██████████| 1250/1250 [02:11<00:00,  9.49it/s, accuracy=0.995, loss=0.000735]\n"
     ]
    },
    {
     "name": "stdout",
     "output_type": "stream",
     "text": [
      "Epoch 26, Loss: 0.0007354205141949933, Accuracy: 0.994525\n",
      "Val_Loss: 0.018796238084114156, Val_Accuracy: 0.8707\n"
     ]
    },
    {
     "name": "stderr",
     "output_type": "stream",
     "text": [
      "Epoch 27/40: 100%|██████████| 1250/1250 [02:11<00:00,  9.49it/s, accuracy=0.994, loss=0.000733]\n"
     ]
    },
    {
     "name": "stdout",
     "output_type": "stream",
     "text": [
      "Epoch 27, Loss: 0.0007326353709737305, Accuracy: 0.99435\n",
      "Val_Loss: 0.018868394510867074, Val_Accuracy: 0.8731\n"
     ]
    },
    {
     "name": "stderr",
     "output_type": "stream",
     "text": [
      "Epoch 28/40: 100%|██████████| 1250/1250 [02:11<00:00,  9.49it/s, accuracy=0.995, loss=0.0007]  \n"
     ]
    },
    {
     "name": "stdout",
     "output_type": "stream",
     "text": [
      "Epoch 28, Loss: 0.0007003649840102298, Accuracy: 0.994525\n",
      "Val_Loss: 0.019045651621813885, Val_Accuracy: 0.873\n"
     ]
    },
    {
     "name": "stderr",
     "output_type": "stream",
     "text": [
      "Epoch 29/40: 100%|██████████| 1250/1250 [02:11<00:00,  9.50it/s, accuracy=0.996, loss=0.000621]\n"
     ]
    },
    {
     "name": "stdout",
     "output_type": "stream",
     "text": [
      "Epoch 29, Loss: 0.0006210755352367414, Accuracy: 0.995625\n",
      "Val_Loss: 0.018852081119059585, Val_Accuracy: 0.8729\n"
     ]
    },
    {
     "name": "stderr",
     "output_type": "stream",
     "text": [
      "Epoch 30/40: 100%|██████████| 1250/1250 [02:11<00:00,  9.50it/s, accuracy=0.996, loss=0.000615]\n"
     ]
    },
    {
     "name": "stdout",
     "output_type": "stream",
     "text": [
      "Epoch 30, Loss: 0.0006145184725872241, Accuracy: 0.995575\n",
      "Val_Loss: 0.019164091898011975, Val_Accuracy: 0.871\n"
     ]
    },
    {
     "name": "stderr",
     "output_type": "stream",
     "text": [
      "Epoch 31/40: 100%|██████████| 1250/1250 [02:11<00:00,  9.48it/s, accuracy=0.996, loss=0.00058] \n"
     ]
    },
    {
     "name": "stdout",
     "output_type": "stream",
     "text": [
      "Epoch 31, Loss: 0.0005795276637974893, Accuracy: 0.996225\n",
      "Val_Loss: 0.01952206326615997, Val_Accuracy: 0.8694\n"
     ]
    },
    {
     "name": "stderr",
     "output_type": "stream",
     "text": [
      "Epoch 32/40: 100%|██████████| 1250/1250 [02:11<00:00,  9.50it/s, accuracy=0.997, loss=0.000529]\n"
     ]
    },
    {
     "name": "stdout",
     "output_type": "stream",
     "text": [
      "Epoch 32, Loss: 0.0005286469451704761, Accuracy: 0.996525\n",
      "Val_Loss: 0.020183218062086963, Val_Accuracy: 0.8681\n"
     ]
    },
    {
     "name": "stderr",
     "output_type": "stream",
     "text": [
      "Epoch 33/40: 100%|██████████| 1250/1250 [02:11<00:00,  9.49it/s, accuracy=0.996, loss=0.000572]\n"
     ]
    },
    {
     "name": "stdout",
     "output_type": "stream",
     "text": [
      "Epoch 33, Loss: 0.0005724124993663281, Accuracy: 0.9959\n",
      "Val_Loss: 0.02067401655788999, Val_Accuracy: 0.8723\n"
     ]
    },
    {
     "name": "stderr",
     "output_type": "stream",
     "text": [
      "Epoch 34/40: 100%|██████████| 1250/1250 [02:11<00:00,  9.49it/s, accuracy=0.997, loss=0.000528]\n"
     ]
    },
    {
     "name": "stdout",
     "output_type": "stream",
     "text": [
      "Epoch 34, Loss: 0.0005284045043983497, Accuracy: 0.99655\n",
      "Val_Loss: 0.019561111296527087, Val_Accuracy: 0.8679\n"
     ]
    },
    {
     "name": "stderr",
     "output_type": "stream",
     "text": [
      "Epoch 35/40: 100%|██████████| 1250/1250 [02:11<00:00,  9.48it/s, accuracy=0.996, loss=0.000546]\n"
     ]
    },
    {
     "name": "stdout",
     "output_type": "stream",
     "text": [
      "Epoch 35, Loss: 0.0005463039625406964, Accuracy: 0.99625\n",
      "Val_Loss: 0.020178848391585052, Val_Accuracy: 0.8731\n"
     ]
    },
    {
     "name": "stderr",
     "output_type": "stream",
     "text": [
      "Epoch 36/40: 100%|██████████| 1250/1250 [02:14<00:00,  9.31it/s, accuracy=0.997, loss=0.000497]\n"
     ]
    },
    {
     "name": "stdout",
     "output_type": "stream",
     "text": [
      "Epoch 36, Loss: 0.0004968643419619184, Accuracy: 0.99695\n",
      "Val_Loss: 0.02065384179347893, Val_Accuracy: 0.8741\n"
     ]
    },
    {
     "name": "stderr",
     "output_type": "stream",
     "text": [
      "Epoch 37/40: 100%|██████████| 1250/1250 [02:12<00:00,  9.45it/s, accuracy=0.997, loss=0.000495]\n"
     ]
    },
    {
     "name": "stdout",
     "output_type": "stream",
     "text": [
      "Epoch 37, Loss: 0.0004953088279988151, Accuracy: 0.996975\n",
      "Val_Loss: 0.021159897419076878, Val_Accuracy: 0.8721\n"
     ]
    },
    {
     "name": "stderr",
     "output_type": "stream",
     "text": [
      "Epoch 38/40: 100%|██████████| 1250/1250 [02:13<00:00,  9.37it/s, accuracy=0.997, loss=0.00049] \n"
     ]
    },
    {
     "name": "stdout",
     "output_type": "stream",
     "text": [
      "Epoch 38, Loss: 0.0004900853376631857, Accuracy: 0.9969\n",
      "Val_Loss: 0.020718892691563816, Val_Accuracy: 0.872\n"
     ]
    },
    {
     "name": "stderr",
     "output_type": "stream",
     "text": [
      "Epoch 39/40: 100%|██████████| 1250/1250 [02:12<00:00,  9.45it/s, accuracy=0.997, loss=0.000474]\n"
     ]
    },
    {
     "name": "stdout",
     "output_type": "stream",
     "text": [
      "Epoch 39, Loss: 0.0004738539703539573, Accuracy: 0.99715\n",
      "Val_Loss: 0.020394099683407694, Val_Accuracy: 0.8729\n"
     ]
    },
    {
     "name": "stderr",
     "output_type": "stream",
     "text": [
      "Epoch 40/40: 100%|██████████| 1250/1250 [02:14<00:00,  9.30it/s, accuracy=0.997, loss=0.000465]\n"
     ]
    },
    {
     "name": "stdout",
     "output_type": "stream",
     "text": [
      "Epoch 40, Loss: 0.0004654527347622206, Accuracy: 0.99725\n",
      "Val_Loss: 0.02037794474370312, Val_Accuracy: 0.8714\n"
     ]
    }
   ],
   "source": [
    "# Define loss function and optimizer\n",
    "criterion = nn.CrossEntropyLoss()\n",
    "#optimizer = optim.RAdam(model.parameters(), lr=4e-3, weight_decay=1e-4, decoupled_weight_decay=True)\n",
    "optimizer = optim.Adam(model.parameters(), lr=1e-3, weight_decay=1e-4)\n",
    "#optimizer = optim.AdamW(model.parameters(), lr=8e-4, weight_decay=8e-5)\n",
    "#optimizer = optim.SparseAdam(model.parameters(), lr=1e-3)\n",
    "\n",
    "# Learning rate decay\n",
    "scheduler = optim.lr_scheduler.ExponentialLR(optimizer, gamma=0.9)\n",
    "\n",
    "# Accuracy calculation\n",
    "def calculate_accuracy(preds, labels):\n",
    "    _, predicted = torch.max(preds, 1)\n",
    "    correct = (predicted == labels).sum().item()\n",
    "    return correct\n",
    "\n",
    "# Training loop\n",
    "num_epochs = 40\n",
    "model_history = []\n",
    "\n",
    "for epoch in range(num_epochs):\n",
    "    model.train()\n",
    "    total_loss = 0\n",
    "    correct_predictions = 0\n",
    "    total_predictions = 0\n",
    "\n",
    "    with tqdm(train_loader, desc=f\"Epoch {epoch+1}/{num_epochs}\") as pbar:\n",
    "        for texts, labels in pbar:\n",
    "            optimizer.zero_grad()\n",
    "            outputs = model(texts)\n",
    "            loss = criterion(outputs, labels)\n",
    "            loss.backward()\n",
    "            optimizer.step()\n",
    "            \n",
    "            total_loss += loss.item()\n",
    "            correct_predictions += calculate_accuracy(outputs, labels)\n",
    "            total_predictions += labels.size(0)\n",
    "            \n",
    "            accuracy = correct_predictions / total_predictions\n",
    "            \n",
    "            pbar.set_postfix(loss=total_loss/total_predictions, accuracy=accuracy)\n",
    "    scheduler.step()\n",
    "\n",
    "    model_history.append(evaluate(model, test_loader))\n",
    "    print(f'Epoch {epoch+1}, Loss: {total_loss/(len(train_loader)*batch_size)}, Accuracy: {accuracy}')\n",
    "    print(f'Val_Loss: {model_history[epoch][1]}, Val_Accuracy: {model_history[epoch][0]}')\n"
   ]
  },
  {
   "cell_type": "code",
   "execution_count": 56,
   "metadata": {},
   "outputs": [
    {
     "data": {
      "text/plain": [
       "'model.png'"
      ]
     },
     "execution_count": 56,
     "metadata": {},
     "output_type": "execute_result"
    }
   ],
   "source": [
    "from torchviz import make_dot\n",
    "import torch\n",
    "import os\n",
    "import sys\n",
    "# Example input\n",
    "x = torch.randint(0, vocab_size, (batch_size, max_l)).to(device)  # Example of random integer indices\n",
    "x = x.long()  # Ensure it's a LongTensor\n",
    "\n",
    "# Forward pass\n",
    "y = model(x)\n",
    "\n",
    "# Visualize the computation graph\n",
    "os.environ[\"PATH\"] += os.pathsep + 'C:/Program Files/Graphviz/bin/'\n",
    "make_dot(y, params=dict(model.named_parameters())).render(\"model\", format=\"png\")"
   ]
  },
  {
   "cell_type": "code",
   "execution_count": 45,
   "metadata": {},
   "outputs": [
    {
     "data": {
      "image/png": "[encoded data removed]",
      "text/plain": [
       "<Figure size 800x500 with 2 Axes>"
      ]
     },
     "metadata": {},
     "output_type": "display_data"
    }
   ],
   "source": [
    "import matplotlib.pyplot as plt\n",
    "\n",
    "#Plot val acc and loss\n",
    "accuracy = [entry[0] for entry in model_history]\n",
    "loss = [entry[1] for entry in model_history]\n",
    "\n",
    "fig, ax1 = plt.subplots(figsize=(8, 5))\n",
    "\n",
    "# Plot accuracy on primary y\n",
    "ax1.set_xlabel('Epoch')\n",
    "ax1.set_ylabel('Accuracy', color='tab:blue')\n",
    "ax1.plot(accuracy, label='Accuracy', color='tab:blue')\n",
    "ax1.tick_params(axis='y', labelcolor='tab:blue')\n",
    "\n",
    "# Plot the loss on secondary y\n",
    "ax2 = ax1.twinx()\n",
    "ax2.set_ylabel('Loss', color='tab:red')\n",
    "ax2.plot(loss, label='Loss', color='tab:red')\n",
    "ax2.tick_params(axis='y', labelcolor='tab:red')\n",
    "\n",
    "plt.title('Model Accuracy and Loss')\n",
    "fig.tight_layout()\n",
    "plt.show()"
   ]
  },
  {
   "cell_type": "code",
   "execution_count": 32,
   "metadata": {},
   "outputs": [],
   "source": [
    "torch.save(model, './model_saves/model_complete.pth')"
   ]
  },
  {
   "cell_type": "code",
   "execution_count": 33,
   "metadata": {},
   "outputs": [],
   "source": [
    "del model"
   ]
  },
  {
   "cell_type": "code",
   "execution_count": 34,
   "metadata": {},
   "outputs": [],
   "source": [
    "import gc         # garbage collect library\n",
    "gc.collect()\n",
    "torch.cuda.empty_cache() "
   ]
  },
  {
   "cell_type": "code",
   "execution_count": 35,
   "metadata": {},
   "outputs": [],
   "source": [
    "with torch.no_grad():\n",
    "    torch.cuda.empty_cache()"
   ]
  },
  {
   "cell_type": "code",
   "execution_count": 27,
   "metadata": {},
   "outputs": [],
   "source": [
    "from numba import cuda\n",
    " \n",
    "cuda.select_device(0) # choosing second GPU \n",
    "cuda.close()"
   ]
  },
  {
   "cell_type": "code",
   "execution_count": 36,
   "metadata": {},
   "outputs": [
    {
     "name": "stdout",
     "output_type": "stream",
     "text": [
      "<CUDA device 0 'b'NVIDIA GeForce RTX 3080 Laptop GPU''>\n"
     ]
    }
   ],
   "source": [
    "device = cuda.get_current_device()\n",
    "device.reset()\n",
    "cuda.close()\n",
    "print(device)"
   ]
  },
  {
   "cell_type": "code",
   "execution_count": null,
   "metadata": {},
   "outputs": [],
   "source": []
  }
 ],
 "metadata": {
  "kernelspec": {
   "display_name": "Python 3 (ipykernel)",
   "language": "python",
   "name": "python3"
  },
  "language_info": {
   "codemirror_mode": {
    "name": "ipython",
    "version": 3
   },
   "file_extension": ".py",
   "mimetype": "text/x-python",
   "name": "python",
   "nbconvert_exporter": "python",
   "pygments_lexer": "ipython3",
   "version": "3.9.5"
  }
 },
 "nbformat": 4,
 "nbformat_minor": 4
}