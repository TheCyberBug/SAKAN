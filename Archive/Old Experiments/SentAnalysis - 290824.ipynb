{
 "cells": [
  {
   "cell_type": "markdown",
   "metadata": {},
   "source": [
    "# TODOs\n",
    "1. ### <s> Lemmatize input - Good\n",
    "2. ### <s> Replace CNNs with KAN-CNNs - Won't learn, Revisit last\n",
    "3. ### Prune and test\n",
    "4. ### <s> B-spline Finetuning - Best with splines = 3\n",
    "5. ### CNN operates on whole embedded lvl - test on various depths (3, 9, 27, 81)\n",
    "6. ### Deeper CNN - 1 + 3 + 5 gram feed into Deep CNN -> KAN \n",
    "7. ### <s> Data Augmentation\n",
    "8. ### Limit Vocab Size\n",
    "9. ### Try Word2Vec or Glove pre-trained"
   ]
  },
  {
   "cell_type": "code",
   "execution_count": 1,
   "metadata": {},
   "outputs": [
    {
     "name": "stdout",
     "output_type": "stream",
     "text": [
      "cuda\n"
     ]
    }
   ],
   "source": [
    "from fastkan import FastKAN as KAN\n",
    "\n",
    "import pandas as pd\n",
    "import numpy as np\n",
    "\n",
    "import torch\n",
    "import torch.nn as nn\n",
    "import torch.nn.functional as F\n",
    "import torch.optim as optim\n",
    "import torchvision\n",
    "import torchvision.transforms as transforms\n",
    "from torch.utils.data import DataLoader, TensorDataset\n",
    "\n",
    "from fastkan import FastKAN as KAN\n",
    "\n",
    "from tqdm import tqdm\n",
    "tqdm.pandas()\n",
    "\n",
    "from sklearn.model_selection import train_test_split\n",
    "\n",
    "import torchtext\n",
    "torchtext.disable_torchtext_deprecation_warning()\n",
    "\n",
    "from torchtext.datasets import IMDB\n",
    "from transformers import GPT2Tokenizer\n",
    "\n",
    "device = torch.device(\"cuda\" if torch.cuda.is_available() else \"cpu\")\n",
    "print(device)"
   ]
  },
  {
   "cell_type": "code",
   "execution_count": 2,
   "metadata": {},
   "outputs": [
    {
     "name": "stderr",
     "output_type": "stream",
     "text": [
      "[nltk_data] Downloading package punkt to\n",
      "[nltk_data]     C:\\Users\\kaloq\\AppData\\Roaming\\nltk_data...\n",
      "[nltk_data]   Package punkt is already up-to-date!\n",
      "[nltk_data] Downloading package stopwords to\n",
      "[nltk_data]     C:\\Users\\kaloq\\AppData\\Roaming\\nltk_data...\n",
      "[nltk_data]   Package stopwords is already up-to-date!\n",
      "[nltk_data] Downloading package wordnet to\n",
      "[nltk_data]     C:\\Users\\kaloq\\AppData\\Roaming\\nltk_data...\n",
      "[nltk_data]   Package wordnet is already up-to-date!\n"
     ]
    },
    {
     "data": {
      "text/plain": [
       "True"
      ]
     },
     "execution_count": 2,
     "metadata": {},
     "output_type": "execute_result"
    }
   ],
   "source": [
    "import nltk\n",
    "from nltk.corpus import stopwords\n",
    "from nltk.tokenize import word_tokenize\n",
    "from nltk.stem import WordNetLemmatizer\n",
    "import re\n",
    "\n",
    "# Download necessary NLTK data\n",
    "nltk.download('punkt')\n",
    "nltk.download('stopwords')\n",
    "nltk.download('wordnet')"
   ]
  },
  {
   "cell_type": "code",
   "execution_count": 3,
   "metadata": {},
   "outputs": [],
   "source": [
    "#data = pd.read_csv('./imdb.csv')\n",
    "#data.head()\n",
    "\n",
    "train = pd.read_csv(\"./data/imdb_train_original.csv\")\n",
    "test = pd.read_csv(\"./data/imdb_test.csv\")"
   ]
  },
  {
   "cell_type": "code",
   "execution_count": 4,
   "metadata": {},
   "outputs": [],
   "source": [
    "# print(train.head)\n",
    "# print(test.head)"
   ]
  },
  {
   "cell_type": "code",
   "execution_count": 6,
   "metadata": {},
   "outputs": [
    {
     "name": "stderr",
     "output_type": "stream",
     "text": [
      "100%|██████████| 40000/40000 [00:00<00:00, 1387269.07it/s]\n",
      "100%|██████████| 10000/10000 [00:00<00:00, 1334745.42it/s]\n"
     ]
    }
   ],
   "source": [
    "# Convert labels to binary\n",
    "def transform_label(label):\n",
    "    return 1 if label == 'positive' else 0\n",
    "\n",
    "train['label'] = train['sentiment'].progress_apply(transform_label)\n",
    "test['label'] = test['sentiment'].progress_apply(transform_label)"
   ]
  },
  {
   "cell_type": "code",
   "execution_count": 7,
   "metadata": {},
   "outputs": [],
   "source": [
    "# # Check for dataset imbalance\n",
    "# train.sentiment.value_counts()"
   ]
  },
  {
   "cell_type": "code",
   "execution_count": 8,
   "metadata": {},
   "outputs": [],
   "source": [
    "# # Review token length\n",
    "# train['token_length'] = train.review.progress_apply(lambda x: len(x.split()))\n",
    "# train.head()"
   ]
  },
  {
   "cell_type": "code",
   "execution_count": 9,
   "metadata": {},
   "outputs": [],
   "source": [
    "# data_pos = train[train['label'] == 1]\n",
    "# print(\"Positive review length\")\n",
    "# data_pos['token_length'].describe()"
   ]
  },
  {
   "cell_type": "code",
   "execution_count": 10,
   "metadata": {},
   "outputs": [],
   "source": [
    "# data_neg = train[train['label'] == 0]\n",
    "# print(\"Negative review length\")\n",
    "# data_neg['token_length'].describe()"
   ]
  },
  {
   "cell_type": "code",
   "execution_count": 11,
   "metadata": {},
   "outputs": [],
   "source": [
    "stop_words = set(stopwords.words('english'))\n",
    "\n",
    "def preprocess_text(text):\n",
    "    # Lowercase the text\n",
    "    text = text.lower()\n",
    "    \n",
    "    # Remove HTML tags\n",
    "    text = re.sub(r'<.*?>', ' ', text)\n",
    "    \n",
    "    # Remove punctuation and special characters\n",
    "    text = re.sub(r'[^a-zA-Z0-9\\s]', ' ', text)\n",
    "\n",
    "    # \n",
    "    words = word_tokenize(text)\n",
    "    sent = [word for word in words if word not in stop_words]\n",
    "    sent = ' '.join(sent)\n",
    "    \n",
    "    return sent"
   ]
  },
  {
   "cell_type": "code",
   "execution_count": 12,
   "metadata": {},
   "outputs": [
    {
     "name": "stderr",
     "output_type": "stream",
     "text": [
      "100%|██████████| 40000/40000 [00:17<00:00, 2267.39it/s]\n",
      "100%|██████████| 10000/10000 [00:04<00:00, 2211.90it/s]\n"
     ]
    }
   ],
   "source": [
    "# Preprocessing\n",
    "train['clean'] = train.review.progress_apply(preprocess_text)\n",
    "test['clean'] = test.review.progress_apply(preprocess_text)"
   ]
  },
  {
   "cell_type": "code",
   "execution_count": 13,
   "metadata": {},
   "outputs": [],
   "source": [
    "# print(train.head())\n",
    "# print(test.head())"
   ]
  },
  {
   "cell_type": "code",
   "execution_count": 14,
   "metadata": {},
   "outputs": [],
   "source": [
    "tokenizer = GPT2Tokenizer.from_pretrained('gpt2')"
   ]
  },
  {
   "cell_type": "code",
   "execution_count": 15,
   "metadata": {},
   "outputs": [],
   "source": [
    "lemmatizer = WordNetLemmatizer()\n",
    "def lemmatize_text(text):\n",
    "    # Tokenize the text if necessary\n",
    "    words = text.split()\n",
    "    # Lemmatize each word in the text\n",
    "    lemmatized_words = [lemmatizer.lemmatize(word) for word in words]\n",
    "    # Join the lemmatized words back into a string\n",
    "    lemmatized_text = ' '.join(lemmatized_words)\n",
    "    return lemmatized_text"
   ]
  },
  {
   "cell_type": "code",
   "execution_count": 16,
   "metadata": {},
   "outputs": [
    {
     "name": "stderr",
     "output_type": "stream",
     "text": [
      "100%|██████████| 40000/40000 [00:11<00:00, 3546.13it/s]\n",
      "100%|██████████| 10000/10000 [00:02<00:00, 3922.37it/s]\n"
     ]
    }
   ],
   "source": [
    "train['lemma'] = train['clean'].progress_apply(lemmatize_text)\n",
    "test['lemma'] = test['clean'].progress_apply(lemmatize_text)"
   ]
  },
  {
   "cell_type": "code",
   "execution_count": 17,
   "metadata": {},
   "outputs": [],
   "source": [
    "# for n in range(20):\n",
    "#     print(data['clean'][n])\n",
    "#     print(data['lemma'][n])"
   ]
  },
  {
   "cell_type": "code",
   "execution_count": 18,
   "metadata": {},
   "outputs": [
    {
     "name": "stderr",
     "output_type": "stream",
     "text": [
      "100%|██████████| 40000/40000 [00:23<00:00, 1695.23it/s]\n",
      "100%|██████████| 10000/10000 [00:05<00:00, 1810.48it/s]\n"
     ]
    }
   ],
   "source": [
    "tokenizer.pad_token = tokenizer.eos_token\n",
    "max_l = 256\n",
    "#data['tokenized'] = data.lemma.progress_apply(lambda x: tokenizer.encode(text=x, add_special_tokens=False, truncation=True, add_prefix_space=True, padding='max_length', max_length=max_l))\n",
    "train['tokenized'] = train.lemma.progress_apply(lambda x: tokenizer.encode(text=x, add_special_tokens=False, truncation=True, add_prefix_space=True, padding='max_length', max_length=max_l))\n",
    "test['tokenized'] = test.lemma.progress_apply(lambda x: tokenizer.encode(text=x, add_special_tokens=False, truncation=True, add_prefix_space=True, padding='max_length', max_length=max_l))"
   ]
  },
  {
   "cell_type": "code",
   "execution_count": 19,
   "metadata": {},
   "outputs": [],
   "source": [
    "# # Check actual tokenized text len\n",
    "# data['ct_length'] = data.tokenized.progress_apply(lambda x: len(x))\n",
    "# data_pos = data[data['label'] == 1]\n",
    "# data_pos['ct_length'].describe()"
   ]
  },
  {
   "cell_type": "code",
   "execution_count": 20,
   "metadata": {},
   "outputs": [],
   "source": [
    "# split the data\n",
    "# X = data.tokenized\n",
    "# y = data.label\n",
    "# X_train, X_test, y_train, y_test = train_test_split(X, y, test_size=0.2, random_state=37)\n",
    "X_train = train.tokenized\n",
    "y_train = train.label\n",
    "\n",
    "X_test = test.tokenized\n",
    "y_test = test.label\n",
    "\n",
    "# Convert to tensors\n",
    "X_train_tensor = torch.tensor(X_train.tolist()).to(device)\n",
    "X_test_tensor = torch.tensor(X_test.tolist()).to(device)\n",
    "y_train_tensor = torch.tensor(y_train.tolist()).to(device)\n",
    "y_test_tensor = torch.tensor(y_test.tolist()).to(device)\n",
    "\n",
    "# Create Datasets - tensors\n",
    "train_dataset = TensorDataset(X_train_tensor, y_train_tensor)\n",
    "test_dataset = TensorDataset(X_test_tensor, y_test_tensor)"
   ]
  },
  {
   "cell_type": "code",
   "execution_count": 20,
   "metadata": {},
   "outputs": [],
   "source": [
    "# Batch the data\n",
    "batch_size = 32\n",
    "train_loader = DataLoader(train_dataset, batch_size=batch_size, shuffle=True)\n",
    "test_loader = DataLoader(test_dataset, batch_size=batch_size, shuffle=False)"
   ]
  },
  {
   "cell_type": "code",
   "execution_count": 21,
   "metadata": {},
   "outputs": [
    {
     "data": {
      "text/plain": [
       "CustomCNN(\n",
       "  (embedding): Embedding(50257, 128)\n",
       "  (conv_pre): Conv2d(1, 256, kernel_size=(1, 128), stride=(1, 1))\n",
       "  (bn_pre): BatchNorm2d(256, eps=1e-05, momentum=0.1, affine=True, track_running_stats=True)\n",
       "  (pool_pre): MaxPool2d(kernel_size=(2, 1), stride=(2, 1), padding=0, dilation=1, ceil_mode=False)\n",
       "  (dropout_pre): Dropout(p=0.25, inplace=False)\n",
       "  (conv1): Conv1d(256, 512, kernel_size=(3,), stride=(1,), padding=(1,))\n",
       "  (bn1): BatchNorm1d(512, eps=1e-05, momentum=0.1, affine=True, track_running_stats=True)\n",
       "  (pool1): MaxPool1d(kernel_size=2, stride=2, padding=0, dilation=1, ceil_mode=False)\n",
       "  (dropout1): Dropout(p=0.5, inplace=False)\n",
       "  (conv2): Conv1d(256, 512, kernel_size=(5,), stride=(1,), padding=(2,))\n",
       "  (bn2): BatchNorm1d(512, eps=1e-05, momentum=0.1, affine=True, track_running_stats=True)\n",
       "  (pool2): MaxPool1d(kernel_size=2, stride=2, padding=0, dilation=1, ceil_mode=False)\n",
       "  (dropout2): Dropout(p=0.5, inplace=False)\n",
       "  (conv3): Conv1d(256, 512, kernel_size=(7,), stride=(1,), padding=(3,))\n",
       "  (bn3): BatchNorm1d(512, eps=1e-05, momentum=0.1, affine=True, track_running_stats=True)\n",
       "  (pool3): MaxPool1d(kernel_size=2, stride=2, padding=0, dilation=1, ceil_mode=False)\n",
       "  (dropout3): Dropout(p=0.5, inplace=False)\n",
       "  (final_conv): Conv2d(1536, 2000, kernel_size=(3, 1), stride=(1, 1), padding=(1, 0))\n",
       "  (bn_final): BatchNorm2d(2000, eps=1e-05, momentum=0.1, affine=True, track_running_stats=True)\n",
       "  (pool_final): MaxPool2d(kernel_size=(2, 1), stride=(2, 1), padding=0, dilation=1, ceil_mode=False)\n",
       "  (dropout_pcat1): Dropout(p=0.5, inplace=False)\n",
       "  (conv_pcat3): Conv2d(2000, 4000, kernel_size=(3, 1), stride=(1, 1), padding=(1, 0))\n",
       "  (bn_pcat3): BatchNorm2d(4000, eps=1e-05, momentum=0.1, affine=True, track_running_stats=True)\n",
       "  (pool_pcat3): MaxPool2d(kernel_size=(2, 1), stride=(2, 1), padding=0, dilation=1, ceil_mode=False)\n",
       "  (dropout_pcat3): Dropout(p=0.5, inplace=False)\n",
       "  (conv_pcat4): Conv2d(4000, 8000, kernel_size=(3, 1), stride=(1, 1), padding=(1, 0))\n",
       "  (bn_pcat4): BatchNorm2d(8000, eps=1e-05, momentum=0.1, affine=True, track_running_stats=True)\n",
       "  (pool_pcat4): MaxPool2d(kernel_size=(2, 1), stride=(2, 1), padding=0, dilation=1, ceil_mode=False)\n",
       "  (dropout_pcat4): Dropout(p=0.5, inplace=False)\n",
       "  (conv_pcat5): Conv2d(8000, 10000, kernel_size=(3, 1), stride=(1, 1), padding=(1, 0))\n",
       "  (bn_pcat5): BatchNorm2d(10000, eps=1e-05, momentum=0.1, affine=True, track_running_stats=True)\n",
       "  (pool_pcat5): MaxPool2d(kernel_size=(2, 1), stride=(2, 1), padding=0, dilation=1, ceil_mode=False)\n",
       "  (dropout_pcat5): Dropout(p=0.6, inplace=False)\n",
       "  (flatten_post): Flatten(start_dim=1, end_dim=-1)\n",
       "  (kan): FastKAN(\n",
       "    (layers): ModuleList(\n",
       "      (0): FastKANLayer(\n",
       "        (layernorm): LayerNorm((40000,), eps=1e-05, elementwise_affine=True)\n",
       "        (rbf): RadialBasisFunction()\n",
       "        (spline_linear): SplineLinear(in_features=320000, out_features=256, bias=False)\n",
       "        (base_linear): Linear(in_features=40000, out_features=256, bias=True)\n",
       "      )\n",
       "      (1): FastKANLayer(\n",
       "        (layernorm): LayerNorm((256,), eps=1e-05, elementwise_affine=True)\n",
       "        (rbf): RadialBasisFunction()\n",
       "        (spline_linear): SplineLinear(in_features=2048, out_features=64, bias=False)\n",
       "        (base_linear): Linear(in_features=256, out_features=64, bias=True)\n",
       "      )\n",
       "      (2): FastKANLayer(\n",
       "        (layernorm): LayerNorm((64,), eps=1e-05, elementwise_affine=True)\n",
       "        (rbf): RadialBasisFunction()\n",
       "        (spline_linear): SplineLinear(in_features=512, out_features=8, bias=False)\n",
       "        (base_linear): Linear(in_features=64, out_features=8, bias=True)\n",
       "      )\n",
       "      (3): FastKANLayer(\n",
       "        (layernorm): LayerNorm((8,), eps=1e-05, elementwise_affine=True)\n",
       "        (rbf): RadialBasisFunction()\n",
       "        (spline_linear): SplineLinear(in_features=64, out_features=2, bias=False)\n",
       "        (base_linear): Linear(in_features=8, out_features=2, bias=True)\n",
       "      )\n",
       "    )\n",
       "  )\n",
       ")"
      ]
     },
     "execution_count": 21,
     "metadata": {},
     "output_type": "execute_result"
    }
   ],
   "source": [
    "# import torch\n",
    "import torch.nn as nn\n",
    "import torch.nn.functional as F\n",
    "\n",
    "# Test with BIG + BiLSTM\n",
    "# ACC - 89.05%\n",
    "\n",
    "class CustomCNN(nn.Module):\n",
    "    def __init__(self, vocab_size, embed_dim):\n",
    "        super(CustomCNN, self).__init__()\n",
    "        \n",
    "        # Embedding layer\n",
    "        self.embedding = nn.Embedding(vocab_size, embed_dim)\n",
    "        \n",
    "        # Pre-convolution layer\n",
    "        self.conv_pre = nn.Conv2d(1, 256, (1, embed_dim), padding=(0, 0))\n",
    "        self.bn_pre = nn.BatchNorm2d(256)\n",
    "        self.pool_pre = nn.MaxPool2d((2, 1))\n",
    "        self.dropout_pre = nn.Dropout(0.25)\n",
    "        \n",
    "        # self.flatten_pre = nn.Flatten()\n",
    "        \n",
    "        # Conv layers with different kernel sizes for 1D input\n",
    "        self.conv1 = nn.Conv1d(256, 512, 3, padding=1)\n",
    "        self.bn1 = nn.BatchNorm1d(512)\n",
    "        self.pool1 = nn.MaxPool1d(2)\n",
    "        self.dropout1 = nn.Dropout(0.5) \n",
    "        \n",
    "        self.conv2 = nn.Conv1d(256, 512, 5, padding=2)\n",
    "        self.bn2 = nn.BatchNorm1d(512)\n",
    "        self.pool2 = nn.MaxPool1d(2)\n",
    "        self.dropout2 = nn.Dropout(0.5) \n",
    "        \n",
    "        self.conv3 = nn.Conv1d(256, 512, 7, padding=3)\n",
    "        self.bn3 = nn.BatchNorm1d(512)\n",
    "        self.pool3 = nn.MaxPool1d(2)\n",
    "        self.dropout3 = nn.Dropout(0.5) \n",
    "\n",
    "        # # Flatten of the 3Conv\n",
    "        # self.flatten_conv3 = nn.Flatten()\n",
    "        \n",
    "        # Post PCAT Conv 1\n",
    "        self.final_conv = nn.Conv2d(3 * 512, 2000, (3, 1), padding=(1, 0))\n",
    "        \n",
    "        self.bn_final = nn.BatchNorm2d(2000)\n",
    "        self.pool_final = nn.MaxPool2d((2, 1))\n",
    "        self.dropout_pcat1 = nn.Dropout(0.5)\n",
    "\n",
    "        # self.flatten_cat1 = nn.Flatten()\n",
    "\n",
    "        # # Post PCAT Conv 2\n",
    "        # self.conv_pcat2 = nn.Conv2d(16384, 32768, (3, 3), padding=(1, 1))\n",
    "\n",
    "        # self.bn_pcat2 = nn.BatchNorm2d(32768)\n",
    "        # self.pool_pcat2 = nn.MaxPool2d((2, 1))\n",
    "        # self.dropout_pcat2 = nn.Dropout(0.15)\n",
    "\n",
    "        # Post PCAT Conv 3\n",
    "        self.conv_pcat3 = nn.Conv2d(2000, 4000, (3, 1), padding=(1, 0))\n",
    "        self.bn_pcat3 = nn.BatchNorm2d(4000)\n",
    "        self.pool_pcat3 = nn.MaxPool2d((2, 1))\n",
    "        self.dropout_pcat3 = nn.Dropout(0.5)\n",
    "\n",
    "        # Post PCAT Conv 4\n",
    "        self.conv_pcat4 = nn.Conv2d(4000, 8000, (3, 1), padding=(1, 0))\n",
    "        self.bn_pcat4 = nn.BatchNorm2d(8000)\n",
    "        self.pool_pcat4 = nn.MaxPool2d((2, 1))\n",
    "        self.dropout_pcat4 = nn.Dropout(0.5)\n",
    "\n",
    "        # Post PCAT Conv 5\n",
    "        self.conv_pcat5 = nn.Conv2d(8000, 10000, (3, 1), padding=(1, 0))\n",
    "\n",
    "        self.bn_pcat5 = nn.BatchNorm2d(10000)\n",
    "        self.pool_pcat5 = nn.MaxPool2d((2, 1))\n",
    "        self.dropout_pcat5 = nn.Dropout(0.6)\n",
    "\n",
    "        self.flatten_post = nn.Flatten()\n",
    "\n",
    "        # BiLSTM\n",
    "        # self.bilstm = nn.LSTM(input_size=24576, hidden_size=256, num_layers=1, bidirectional=True, batch_first=True)\n",
    "        \n",
    "        # Replace dense layers with FastKAN\n",
    "        self.kan = KAN([40000, 256, 64, 8, 2], num_grids=8)\n",
    "        \n",
    "    def forward(self, x):\n",
    "        # x shape: (batch_size, seq_len)\n",
    "        \n",
    "        # Embedding\n",
    "        x = self.embedding(x)  # shape: (batch_size, seq_len, embed_dim)\n",
    "        x = x.unsqueeze(1)  # shape: (batch_size, 1, seq_len, embed_dim)\n",
    "        \n",
    "        # Pre-convolution layer\n",
    "        x = self.conv_pre(x)  # shape: (batch_size, 1024, seq_len, 1)\n",
    "        x = self.bn_pre(x)\n",
    "        x = F.relu(x)\n",
    "        x = self.pool_pre(x)  # shape: (batch_size, 256, seq_len // 2)\n",
    "        x = self.dropout_pre(x)\n",
    "        x = x.squeeze(3)  # shape: (batch_size, 1024, seq_len)\n",
    "        \n",
    "        #x_flat_pre = self.flatten_pre(x)\n",
    "        \n",
    "        # Conv layer 1\n",
    "        x1 = self.conv1(x)  # shape: (batch_size, 256, seq_len)\n",
    "        x1 = self.bn1(x1)\n",
    "        x1 = F.relu(x1)\n",
    "        x1 = self.pool1(x1)  # shape: (batch_size, 256, seq_len // 2)\n",
    "        x1 = self.dropout1(x1)\n",
    "        \n",
    "        # Conv layer 2\n",
    "        x2 = self.conv2(x)  # shape: (batch_size, 256, seq_len)\n",
    "        x2 = self.bn2(x2)\n",
    "        x2 = F.relu(x2)\n",
    "        x2 = self.pool2(x2)  # shape: (batch_size, 256, seq_len // 2)\n",
    "        x2 = self.dropout2(x2)\n",
    "        \n",
    "        # Conv layer 3\n",
    "        x3 = self.conv3(x)  # shape: (batch_size, 256, seq_len)\n",
    "        x3 = self.bn3(x3)\n",
    "        x3 = F.relu(x3)\n",
    "        x3 = self.pool3(x3)  # shape: (batch_size, 256, seq_len // 2)\n",
    "        x3 = self.dropout3(x3) \n",
    "        \n",
    "        # Concatenate along the channel dimension\n",
    "        x_cat = torch.cat((x1, x2, x3), dim=1)  # shape: (batch_size, 768, seq_len // 2)\n",
    "        x_cat = x_cat.unsqueeze(3)  # shape: (batch_size, 768, seq_len // 2, 1)\n",
    "\n",
    "        #x_cat_flat = self.flatten_conv3(x_cat)\n",
    "        \n",
    "        # PCAT1 Conv2D layer\n",
    "        x_out = self.final_conv(x_cat)  # shape: (batch_size, 1024, seq_len // 2, 1)\n",
    "        x_out = self.bn_final(x_out)\n",
    "        x_out = F.relu(x_out)\n",
    "        x_out = self.pool_final(x_out)  # shape: (batch_size, 1024, seq_len // 4, 1)\n",
    "\n",
    "        x_out = self.dropout_pcat1(x_out)\n",
    "\n",
    "        # x_cat_flat = self.flatten_cat1(x_out)\n",
    "\n",
    "        # # PCAT2 Conv2D layer\n",
    "        # x_out = self.conv_pcat2(x_out)  # shape: (batch_size, 2048, seq_len // 4, 1)\n",
    "        # x_out = self.bn_pcat2(x_out)\n",
    "        # x_out = F.relu(x_out)\n",
    "        # x_out = self.pool_pcat2(x_out)  # shape: (batch_size, 2048, seq_len // 8, 1)\n",
    "\n",
    "        # PCAT3 Conv2D layer\n",
    "        x_out = self.conv_pcat3(x_out)  # shape: (batch_size, 4096, seq_len // 8, 1)\n",
    "        x_out = self.bn_pcat3(x_out)\n",
    "        x_out = F.relu(x_out)\n",
    "        x_out = self.pool_pcat3(x_out)  # shape: (batch_size, 4096, seq_len // 32, 1)\n",
    "        \n",
    "        x_out = self.dropout_pcat3(x_out)\n",
    "\n",
    "        # PCAT4 Conv2D layer\n",
    "        x_out = self.conv_pcat4(x_out)  # shape: (batch_size, 4096, seq_len // 8, 1)\n",
    "        x_out = self.bn_pcat4(x_out)\n",
    "        x_out = F.relu(x_out)\n",
    "        x_out = self.pool_pcat4(x_out)  # shape: (batch_size, 4096, seq_len // 32, 1)\n",
    "        \n",
    "        x_out = self.dropout_pcat4(x_out)\n",
    "\n",
    "        # PCAT5 Conv2D layer\n",
    "        x_out = self.conv_pcat5(x_out)  # shape: (batch_size, 4096, seq_len // 8, 1)\n",
    "        x_out = self.bn_pcat5(x_out)\n",
    "        x_out = F.relu(x_out)\n",
    "        x_out = self.pool_pcat5(x_out)  # shape: (batch_size, 4096, seq_len // 32, 1)\n",
    "        \n",
    "        x_out = self.dropout_pcat5(x_out)\n",
    "        \n",
    "        # Flatten the tensor for the dense layer\n",
    "        # x_out = x_out.view(x_out.size(0), -1)  # shape: (batch_size, 4096 * (seq_len // 32))\n",
    "        x_flat_post = self.flatten_post(x_out)\n",
    "\n",
    "        #x_conv_final = torch.cat((x_cat_flat, x_flat_post), dim=1)\n",
    "\n",
    "        # Pass through BiLSTM\n",
    "        #bilstm_out, _ = self.bilstm(x_conv_final)  # bilstm_out shape: (batch_size, seq_len, hidden_size*2)\n",
    "\n",
    "        # Use the last hidden state from both directions\n",
    "        #bilstm_out = bilstm_out.squeeze(1)\n",
    "        \n",
    "        # Dense layer\n",
    "        x_out = self.kan(x_flat_post)  # shape: (batch_size, num_classes)\n",
    "        \n",
    "        return x_out\n",
    "\n",
    "# Hyperparams\n",
    "vocab_size = len(tokenizer)  # Vocabulary size of GPT-2 tokenizer\n",
    "embed_dim = 128  # Embedding dimension\n",
    "num_class = 2  # Number of classes (negative, positive)\n",
    "\n",
    "model = CustomCNN(vocab_size, embed_dim)\n",
    "model.to(device)"
   ]
  },
  {
   "cell_type": "code",
   "execution_count": 22,
   "metadata": {},
   "outputs": [],
   "source": [
    "#from torchinfo import summary\n",
    "#summary(model, input_size=(batch_size, max_l), dtypes=([torch.int64]), col_names=[\"kernel_size\", \"input_size\", \"output_size\", \"num_params\"])"
   ]
  },
  {
   "cell_type": "code",
   "execution_count": 23,
   "metadata": {},
   "outputs": [],
   "source": [
    "# Evaluation function\n",
    "def evaluate(model, test_loader):\n",
    "    model.eval()\n",
    "    correct = 0\n",
    "    total = 0\n",
    "    total_loss = 0\n",
    "    with torch.no_grad():\n",
    "        for texts, labels in test_loader:\n",
    "            outputs = model(texts)\n",
    "            loss = criterion(outputs, labels)\n",
    "            total_loss += loss.item()\n",
    "            correct += calculate_accuracy(outputs, labels)\n",
    "            total += labels.size(0)\n",
    "    accuracy = correct / total\n",
    "    avg_loss = total_loss / total\n",
    "    return accuracy, avg_loss"
   ]
  },
  {
   "cell_type": "code",
   "execution_count": 24,
   "metadata": {
    "scrolled": true
   },
   "outputs": [
    {
     "name": "stderr",
     "output_type": "stream",
     "text": [
      "Epoch 1/40:   0%|          | 0/1000 [00:00<?, ?it/s]d:\\python22-23\\imgrecfastkan\\venv\\lib\\site-packages\\torch\\autograd\\graph.py:744: UserWarning: Plan failed with a cudnnException: CUDNN_BACKEND_EXECUTION_PLAN_DESCRIPTOR: cudnnFinalize Descriptor Failed cudnn_status: CUDNN_STATUS_NOT_SUPPORTED (Triggered internally at C:\\actions-runner\\_work\\pytorch\\pytorch\\builder\\windows\\pytorch\\aten\\src\\ATen\\native\\cudnn\\Conv_v8.cpp:919.)\n",
      "  return Variable._execution_engine.run_backward(  # Calls into the C++ engine to run the backward pass\n",
      "Epoch 1/40: 100%|██████████| 1000/1000 [09:24<00:00,  1.77it/s, accuracy=0.764, loss=0.00253]\n"
     ]
    },
    {
     "name": "stdout",
     "output_type": "stream",
     "text": [
      "Epoch 1, Loss: 0.002531291795447469, Accuracy: 0.76379\n",
      "Val_Loss: 0.0045745997548103335, Val_Accuracy: 0.7127\n"
     ]
    },
    {
     "name": "stderr",
     "output_type": "stream",
     "text": [
      "Epoch 2/40: 100%|██████████| 1000/1000 [09:27<00:00,  1.76it/s, accuracy=0.876, loss=0.00149]\n"
     ]
    },
    {
     "name": "stdout",
     "output_type": "stream",
     "text": [
      "Epoch 2, Loss: 0.001489023721590638, Accuracy: 0.87573\n",
      "Val_Loss: 0.00235512980222702, Val_Accuracy: 0.824\n"
     ]
    },
    {
     "name": "stderr",
     "output_type": "stream",
     "text": [
      "Epoch 3/40: 100%|██████████| 1000/1000 [09:27<00:00,  1.76it/s, accuracy=0.898, loss=0.00126]\n"
     ]
    },
    {
     "name": "stdout",
     "output_type": "stream",
     "text": [
      "Epoch 3, Loss: 0.0012590153347700834, Accuracy: 0.897585\n",
      "Val_Loss: 0.00234425462782383, Val_Accuracy: 0.8384\n"
     ]
    },
    {
     "name": "stderr",
     "output_type": "stream",
     "text": [
      "Epoch 4/40: 100%|██████████| 1000/1000 [09:26<00:00,  1.76it/s, accuracy=0.914, loss=0.00108]\n"
     ]
    },
    {
     "name": "stdout",
     "output_type": "stream",
     "text": [
      "Epoch 4, Loss: 0.0010820739424228668, Accuracy: 0.91417\n",
      "Val_Loss: 0.004088072016835213, Val_Accuracy: 0.758\n"
     ]
    },
    {
     "name": "stderr",
     "output_type": "stream",
     "text": [
      "Epoch 5/40: 100%|██████████| 1000/1000 [09:24<00:00,  1.77it/s, accuracy=0.927, loss=0.00094]\n"
     ]
    },
    {
     "name": "stdout",
     "output_type": "stream",
     "text": [
      "Epoch 5, Loss: 0.0009400371233373881, Accuracy: 0.92714\n",
      "Val_Loss: 0.004616815173625946, Val_Accuracy: 0.7618\n"
     ]
    },
    {
     "name": "stderr",
     "output_type": "stream",
     "text": [
      "Epoch 6/40: 100%|██████████| 1000/1000 [09:25<00:00,  1.77it/s, accuracy=0.937, loss=0.000827]\n"
     ]
    },
    {
     "name": "stdout",
     "output_type": "stream",
     "text": [
      "Epoch 6, Loss: 0.0008271606092900038, Accuracy: 0.93721\n",
      "Val_Loss: 0.007168085497617722, Val_Accuracy: 0.6935\n"
     ]
    },
    {
     "name": "stderr",
     "output_type": "stream",
     "text": [
      "Epoch 7/40: 100%|██████████| 1000/1000 [09:23<00:00,  1.77it/s, accuracy=0.945, loss=0.000728]\n"
     ]
    },
    {
     "name": "stdout",
     "output_type": "stream",
     "text": [
      "Epoch 7, Loss: 0.0007276481697894633, Accuracy: 0.944745\n",
      "Val_Loss: 0.004809264862537384, Val_Accuracy: 0.749\n"
     ]
    },
    {
     "name": "stderr",
     "output_type": "stream",
     "text": [
      "Epoch 8/40: 100%|██████████| 1000/1000 [09:24<00:00,  1.77it/s, accuracy=0.953, loss=0.000632]\n"
     ]
    },
    {
     "name": "stdout",
     "output_type": "stream",
     "text": [
      "Epoch 8, Loss: 0.0006317343706823885, Accuracy: 0.95325\n",
      "Val_Loss: 0.00709564179778099, Val_Accuracy: 0.7079\n"
     ]
    },
    {
     "name": "stderr",
     "output_type": "stream",
     "text": [
      "Epoch 9/40: 100%|██████████| 1000/1000 [09:25<00:00,  1.77it/s, accuracy=0.96, loss=0.000537]\n"
     ]
    },
    {
     "name": "stdout",
     "output_type": "stream",
     "text": [
      "Epoch 9, Loss: 0.0005367797604575753, Accuracy: 0.96008\n",
      "Val_Loss: 0.006707005280256272, Val_Accuracy: 0.7114\n"
     ]
    },
    {
     "name": "stderr",
     "output_type": "stream",
     "text": [
      "Epoch 10/40: 100%|██████████| 1000/1000 [09:24<00:00,  1.77it/s, accuracy=0.966, loss=0.000457]\n"
     ]
    },
    {
     "name": "stdout",
     "output_type": "stream",
     "text": [
      "Epoch 10, Loss: 0.0004569257138762623, Accuracy: 0.965975\n",
      "Val_Loss: 0.009325457906723022, Val_Accuracy: 0.6748\n"
     ]
    },
    {
     "name": "stderr",
     "output_type": "stream",
     "text": [
      "Epoch 11/40: 100%|██████████| 1000/1000 [09:24<00:00,  1.77it/s, accuracy=0.97, loss=0.000404]\n"
     ]
    },
    {
     "name": "stdout",
     "output_type": "stream",
     "text": [
      "Epoch 11, Loss: 0.0004043901968933642, Accuracy: 0.96962\n",
      "Val_Loss: 0.011005353724956512, Val_Accuracy: 0.6176\n"
     ]
    },
    {
     "name": "stderr",
     "output_type": "stream",
     "text": [
      "Epoch 12/40: 100%|██████████| 1000/1000 [09:24<00:00,  1.77it/s, accuracy=0.974, loss=0.000345]\n"
     ]
    },
    {
     "name": "stdout",
     "output_type": "stream",
     "text": [
      "Epoch 12, Loss: 0.0003446166886296123, Accuracy: 0.97419\n",
      "Val_Loss: 0.01100420285463333, Val_Accuracy: 0.6533\n"
     ]
    },
    {
     "name": "stderr",
     "output_type": "stream",
     "text": [
      "Epoch 13/40: 100%|██████████| 1000/1000 [09:25<00:00,  1.77it/s, accuracy=0.976, loss=0.000312]\n"
     ]
    },
    {
     "name": "stdout",
     "output_type": "stream",
     "text": [
      "Epoch 13, Loss: 0.00031175147466361525, Accuracy: 0.9764\n",
      "Val_Loss: 0.01083009330034256, Val_Accuracy: 0.6508\n"
     ]
    },
    {
     "name": "stderr",
     "output_type": "stream",
     "text": [
      "Epoch 14/40: 100%|██████████| 1000/1000 [09:25<00:00,  1.77it/s, accuracy=0.979, loss=0.000274]\n"
     ]
    },
    {
     "name": "stdout",
     "output_type": "stream",
     "text": [
      "Epoch 14, Loss: 0.0002736413432797417, Accuracy: 0.979305\n",
      "Val_Loss: 0.01585261480808258, Val_Accuracy: 0.6021\n"
     ]
    },
    {
     "name": "stderr",
     "output_type": "stream",
     "text": [
      "Epoch 15/40: 100%|██████████| 1000/1000 [09:26<00:00,  1.77it/s, accuracy=0.982, loss=0.000239]\n"
     ]
    },
    {
     "name": "stdout",
     "output_type": "stream",
     "text": [
      "Epoch 15, Loss: 0.00023889202672522516, Accuracy: 0.982235\n",
      "Val_Loss: 0.012439672529697418, Val_Accuracy: 0.668\n"
     ]
    },
    {
     "name": "stderr",
     "output_type": "stream",
     "text": [
      "Epoch 16/40: 100%|██████████| 1000/1000 [09:25<00:00,  1.77it/s, accuracy=0.983, loss=0.000219]\n"
     ]
    },
    {
     "name": "stdout",
     "output_type": "stream",
     "text": [
      "Epoch 16, Loss: 0.00021906214524991812, Accuracy: 0.983485\n",
      "Val_Loss: 0.012743219423294067, Val_Accuracy: 0.6566\n"
     ]
    },
    {
     "name": "stderr",
     "output_type": "stream",
     "text": [
      "Epoch 17/40: 100%|██████████| 1000/1000 [09:25<00:00,  1.77it/s, accuracy=0.985, loss=0.000195]\n"
     ]
    },
    {
     "name": "stdout",
     "output_type": "stream",
     "text": [
      "Epoch 17, Loss: 0.00019507309032371268, Accuracy: 0.9853\n",
      "Val_Loss: 0.012412629234790803, Val_Accuracy: 0.6686\n"
     ]
    },
    {
     "name": "stderr",
     "output_type": "stream",
     "text": [
      "Epoch 18/40: 100%|██████████| 1000/1000 [09:25<00:00,  1.77it/s, accuracy=0.987, loss=0.00018]\n"
     ]
    },
    {
     "name": "stdout",
     "output_type": "stream",
     "text": [
      "Epoch 18, Loss: 0.00017950863257283346, Accuracy: 0.986525\n",
      "Val_Loss: 0.011167887079715728, Val_Accuracy: 0.6941\n"
     ]
    },
    {
     "name": "stderr",
     "output_type": "stream",
     "text": [
      "Epoch 19/40: 100%|██████████| 1000/1000 [09:25<00:00,  1.77it/s, accuracy=0.988, loss=0.000165]\n"
     ]
    },
    {
     "name": "stdout",
     "output_type": "stream",
     "text": [
      "Epoch 19, Loss: 0.0001653122107964009, Accuracy: 0.987845\n",
      "Val_Loss: 0.01575302674770355, Val_Accuracy: 0.659\n"
     ]
    },
    {
     "name": "stderr",
     "output_type": "stream",
     "text": [
      "Epoch 20/40: 100%|██████████| 1000/1000 [09:25<00:00,  1.77it/s, accuracy=0.988, loss=0.000159]\n"
     ]
    },
    {
     "name": "stdout",
     "output_type": "stream",
     "text": [
      "Epoch 20, Loss: 0.00015919703540857882, Accuracy: 0.98834\n",
      "Val_Loss: 0.012885048806667328, Val_Accuracy: 0.6934\n"
     ]
    },
    {
     "name": "stderr",
     "output_type": "stream",
     "text": [
      "Epoch 21/40: 100%|██████████| 1000/1000 [09:25<00:00,  1.77it/s, accuracy=0.99, loss=0.000144]\n"
     ]
    },
    {
     "name": "stdout",
     "output_type": "stream",
     "text": [
      "Epoch 21, Loss: 0.00014390517167397774, Accuracy: 0.989565\n",
      "Val_Loss: 0.01995262842178345, Val_Accuracy: 0.6284\n"
     ]
    },
    {
     "name": "stderr",
     "output_type": "stream",
     "text": [
      "Epoch 22/40: 100%|██████████| 1000/1000 [09:25<00:00,  1.77it/s, accuracy=0.99, loss=0.000133]\n"
     ]
    },
    {
     "name": "stdout",
     "output_type": "stream",
     "text": [
      "Epoch 22, Loss: 0.0001333267850393895, Accuracy: 0.990085\n",
      "Val_Loss: 0.016816376423835756, Val_Accuracy: 0.6782\n"
     ]
    },
    {
     "name": "stderr",
     "output_type": "stream",
     "text": [
      "Epoch 23/40: 100%|██████████| 1000/1000 [09:25<00:00,  1.77it/s, accuracy=0.991, loss=0.000127]\n"
     ]
    },
    {
     "name": "stdout",
     "output_type": "stream",
     "text": [
      "Epoch 23, Loss: 0.0001267993886268232, Accuracy: 0.99071\n",
      "Val_Loss: 0.018653430724143983, Val_Accuracy: 0.6635\n"
     ]
    },
    {
     "name": "stderr",
     "output_type": "stream",
     "text": [
      "Epoch 24/40: 100%|██████████| 1000/1000 [09:25<00:00,  1.77it/s, accuracy=0.991, loss=0.000121]\n"
     ]
    },
    {
     "name": "stdout",
     "output_type": "stream",
     "text": [
      "Epoch 24, Loss: 0.00012146388768567704, Accuracy: 0.991165\n",
      "Val_Loss: 0.018966045594215393, Val_Accuracy: 0.6656\n"
     ]
    },
    {
     "name": "stderr",
     "output_type": "stream",
     "text": [
      "Epoch 25/40: 100%|██████████| 1000/1000 [09:25<00:00,  1.77it/s, accuracy=0.991, loss=0.000119]\n"
     ]
    },
    {
     "name": "stdout",
     "output_type": "stream",
     "text": [
      "Epoch 25, Loss: 0.00011927647414733656, Accuracy: 0.99123\n",
      "Val_Loss: 0.01805459122657776, Val_Accuracy: 0.6727\n"
     ]
    },
    {
     "name": "stderr",
     "output_type": "stream",
     "text": [
      "Epoch 26/40: 100%|██████████| 1000/1000 [09:25<00:00,  1.77it/s, accuracy=0.991, loss=0.000115]\n"
     ]
    },
    {
     "name": "stdout",
     "output_type": "stream",
     "text": [
      "Epoch 26, Loss: 0.00011458531839889475, Accuracy: 0.991315\n",
      "Val_Loss: 0.01912943184375763, Val_Accuracy: 0.6754\n"
     ]
    },
    {
     "name": "stderr",
     "output_type": "stream",
     "text": [
      "Epoch 27/40: 100%|██████████| 1000/1000 [09:25<00:00,  1.77it/s, accuracy=0.992, loss=0.000114]\n"
     ]
    },
    {
     "name": "stdout",
     "output_type": "stream",
     "text": [
      "Epoch 27, Loss: 0.00011390524592192378, Accuracy: 0.99164\n",
      "Val_Loss: 0.01977850546836853, Val_Accuracy: 0.6793\n"
     ]
    },
    {
     "name": "stderr",
     "output_type": "stream",
     "text": [
      "Epoch 28/40: 100%|██████████| 1000/1000 [09:25<00:00,  1.77it/s, accuracy=0.992, loss=0.000101]\n"
     ]
    },
    {
     "name": "stdout",
     "output_type": "stream",
     "text": [
      "Epoch 28, Loss: 0.00010057085161621217, Accuracy: 0.992375\n",
      "Val_Loss: 0.02495097737312317, Val_Accuracy: 0.6607\n"
     ]
    },
    {
     "name": "stderr",
     "output_type": "stream",
     "text": [
      "Epoch 29/40: 100%|██████████| 1000/1000 [09:25<00:00,  1.77it/s, accuracy=0.993, loss=9.82e-5]\n"
     ]
    },
    {
     "name": "stdout",
     "output_type": "stream",
     "text": [
      "Epoch 29, Loss: 9.818840536754578e-05, Accuracy: 0.99261\n",
      "Val_Loss: 0.02702879993915558, Val_Accuracy: 0.6481\n"
     ]
    },
    {
     "name": "stderr",
     "output_type": "stream",
     "text": [
      "Epoch 30/40: 100%|██████████| 1000/1000 [09:25<00:00,  1.77it/s, accuracy=0.993, loss=9.63e-5]\n"
     ]
    },
    {
     "name": "stdout",
     "output_type": "stream",
     "text": [
      "Epoch 30, Loss: 9.626766901521477e-05, Accuracy: 0.993015\n",
      "Val_Loss: 0.02452814440727234, Val_Accuracy: 0.6709\n"
     ]
    },
    {
     "name": "stderr",
     "output_type": "stream",
     "text": [
      "Epoch 31/40: 100%|██████████| 1000/1000 [09:25<00:00,  1.77it/s, accuracy=0.993, loss=9.25e-5]\n"
     ]
    },
    {
     "name": "stdout",
     "output_type": "stream",
     "text": [
      "Epoch 31, Loss: 9.249086048512254e-05, Accuracy: 0.99337\n",
      "Val_Loss: 0.022288777875900268, Val_Accuracy: 0.6749\n"
     ]
    },
    {
     "name": "stderr",
     "output_type": "stream",
     "text": [
      "Epoch 32/40:  98%|█████████▊| 985/1000 [09:18<00:08,  1.76it/s, accuracy=0.993, loss=9.18e-5]\n"
     ]
    },
    {
     "ename": "KeyboardInterrupt",
     "evalue": "",
     "output_type": "error",
     "traceback": [
      "\u001b[1;31m---------------------------------------------------------------------------\u001b[0m",
      "\u001b[1;31mKeyboardInterrupt\u001b[0m                         Traceback (most recent call last)",
      "Cell \u001b[1;32mIn[24], line 34\u001b[0m\n\u001b[0;32m     31\u001b[0m loss\u001b[38;5;241m.\u001b[39mbackward()\n\u001b[0;32m     32\u001b[0m optimizer\u001b[38;5;241m.\u001b[39mstep()\n\u001b[1;32m---> 34\u001b[0m total_loss \u001b[38;5;241m+\u001b[39m\u001b[38;5;241m=\u001b[39m \u001b[43mloss\u001b[49m\u001b[38;5;241;43m.\u001b[39;49m\u001b[43mitem\u001b[49m\u001b[43m(\u001b[49m\u001b[43m)\u001b[49m\n\u001b[0;32m     35\u001b[0m correct_predictions \u001b[38;5;241m+\u001b[39m\u001b[38;5;241m=\u001b[39m calculate_accuracy(outputs, labels)\n\u001b[0;32m     36\u001b[0m total_predictions \u001b[38;5;241m+\u001b[39m\u001b[38;5;241m=\u001b[39m labels\u001b[38;5;241m.\u001b[39msize(\u001b[38;5;241m0\u001b[39m)\n",
      "\u001b[1;31mKeyboardInterrupt\u001b[0m: "
     ]
    }
   ],
   "source": [
    "# Define loss function and optimizer\n",
    "criterion = nn.CrossEntropyLoss()\n",
    "#optimizer = optim.RAdam(model.parameters(), lr=4e-3, weight_decay=1e-4, decoupled_weight_decay=True)\n",
    "optimizer = optim.AdamW(model.parameters(), lr=5e-4, weight_decay=5e-5)\n",
    "#optimizer = optim.SparseAdam(model.parameters(), lr=1e-3)\n",
    "\n",
    "# Learning rate decay\n",
    "scheduler = optim.lr_scheduler.ExponentialLR(optimizer, gamma=0.9)\n",
    "\n",
    "# Accuracy calculation\n",
    "def calculate_accuracy(preds, labels):\n",
    "    _, predicted = torch.max(preds, 1)\n",
    "    correct = (predicted == labels).sum().item()\n",
    "    return correct\n",
    "\n",
    "# Training loop\n",
    "num_epochs = 40\n",
    "model_history = []\n",
    "\n",
    "for epoch in range(num_epochs):\n",
    "    model.train()\n",
    "    total_loss = 0\n",
    "    correct_predictions = 0\n",
    "    total_predictions = 0\n",
    "\n",
    "    with tqdm(train_loader, desc=f\"Epoch {epoch+1}/{num_epochs}\") as pbar:\n",
    "        for texts, labels in pbar:\n",
    "            optimizer.zero_grad()\n",
    "            outputs = model(texts)\n",
    "            loss = criterion(outputs, labels)\n",
    "            loss.backward()\n",
    "            optimizer.step()\n",
    "            \n",
    "            total_loss += loss.item()\n",
    "            correct_predictions += calculate_accuracy(outputs, labels)\n",
    "            total_predictions += labels.size(0)\n",
    "            \n",
    "            accuracy = correct_predictions / total_predictions\n",
    "            \n",
    "            pbar.set_postfix(loss=total_loss/total_predictions, accuracy=accuracy)\n",
    "    scheduler.step()\n",
    "\n",
    "    model_history.append(evaluate(model, test_loader))\n",
    "    print(f'Epoch {epoch+1}, Loss: {total_loss/(len(train_loader)*batch_size)}, Accuracy: {accuracy}')\n",
    "    print(f'Val_Loss: {model_history[epoch][1]}, Val_Accuracy: {model_history[epoch][0]}')\n"
   ]
  },
  {
   "cell_type": "code",
   "execution_count": 25,
   "metadata": {},
   "outputs": [
    {
     "data": {
      "image/png": "[encoded data removed]",
      "text/plain": [
       "<Figure size 800x500 with 2 Axes>"
      ]
     },
     "metadata": {},
     "output_type": "display_data"
    }
   ],
   "source": [
    "import matplotlib.pyplot as plt\n",
    "\n",
    "#Plot val acc and loss\n",
    "accuracy = [entry[0] for entry in model_history]\n",
    "loss = [entry[1] for entry in model_history]\n",
    "\n",
    "fig, ax1 = plt.subplots(figsize=(8, 5))\n",
    "\n",
    "# Plot accuracy on primary y\n",
    "ax1.set_xlabel('Epoch')\n",
    "ax1.set_ylabel('Accuracy', color='tab:blue')\n",
    "ax1.plot(accuracy, label='Accuracy', color='tab:blue')\n",
    "ax1.tick_params(axis='y', labelcolor='tab:blue')\n",
    "\n",
    "# Plot the loss on secondary y\n",
    "ax2 = ax1.twinx()\n",
    "ax2.set_ylabel('Loss', color='tab:red')\n",
    "ax2.plot(loss, label='Loss', color='tab:red')\n",
    "ax2.tick_params(axis='y', labelcolor='tab:red')\n",
    "\n",
    "plt.title('Model Accuracy and Loss')\n",
    "fig.tight_layout()\n",
    "plt.show()"
   ]
  },
  {
   "cell_type": "code",
   "execution_count": 52,
   "metadata": {},
   "outputs": [],
   "source": [
    "torch.save(model, './model_saves/model_complete.pth')"
   ]
  },
  {
   "cell_type": "code",
   "execution_count": 26,
   "metadata": {},
   "outputs": [],
   "source": [
    "del model"
   ]
  },
  {
   "cell_type": "code",
   "execution_count": 27,
   "metadata": {},
   "outputs": [],
   "source": [
    "import gc         # garbage collect library\n",
    "gc.collect()\n",
    "torch.cuda.empty_cache() "
   ]
  },
  {
   "cell_type": "code",
   "execution_count": 28,
   "metadata": {},
   "outputs": [],
   "source": [
    "with torch.no_grad():\n",
    "    torch.cuda.empty_cache()"
   ]
  },
  {
   "cell_type": "code",
   "execution_count": 27,
   "metadata": {},
   "outputs": [],
   "source": [
    "from numba import cuda\n",
    " \n",
    "cuda.select_device(0) # choosing second GPU \n",
    "cuda.close()"
   ]
  },
  {
   "cell_type": "code",
   "execution_count": 36,
   "metadata": {},
   "outputs": [
    {
     "name": "stdout",
     "output_type": "stream",
     "text": [
      "<CUDA device 0 'b'NVIDIA GeForce RTX 3080 Laptop GPU''>\n"
     ]
    }
   ],
   "source": [
    "device = cuda.get_current_device()\n",
    "device.reset()\n",
    "cuda.close()\n",
    "print(device)"
   ]
  },
  {
   "cell_type": "code",
   "execution_count": null,
   "metadata": {},
   "outputs": [],
   "source": []
  }
 ],
 "metadata": {
  "kernelspec": {
   "display_name": "Python 3 (ipykernel)",
   "language": "python",
   "name": "python3"
  },
  "language_info": {
   "codemirror_mode": {
    "name": "ipython",
    "version": 3
   },
   "file_extension": ".py",
   "mimetype": "text/x-python",
   "name": "python",
   "nbconvert_exporter": "python",
   "pygments_lexer": "ipython3",
   "version": "3.9.5"
  }
 },
 "nbformat": 4,
 "nbformat_minor": 4
}
