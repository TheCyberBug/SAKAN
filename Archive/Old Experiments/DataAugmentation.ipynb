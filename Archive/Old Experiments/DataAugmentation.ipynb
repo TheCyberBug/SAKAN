{
 "cells": [
  {
   "cell_type": "code",
   "execution_count": 5,
   "id": "109c75b7-adf7-4f37-b632-2201d2308d64",
   "metadata": {},
   "outputs": [],
   "source": [
    "import pandas as pd\n",
    "import numpy as np"
   ]
  },
  {
   "cell_type": "code",
   "execution_count": 14,
   "id": "0176ee47-c313-4620-9c9f-8a0b07a92af2",
   "metadata": {},
   "outputs": [],
   "source": [
    "import nlpaug.augmenter.char as nac\n",
    "import nlpaug.augmenter.word as naw\n",
    "import nlpaug.augmenter.sentence as nas\n",
    "import nlpaug.flow as nafc\n",
    "\n",
    "from nlpaug.util import Action"
   ]
  },
  {
   "cell_type": "code",
   "execution_count": 6,
   "id": "40dd9c79-b198-406e-8737-b134d9740d27",
   "metadata": {},
   "outputs": [
    {
     "data": {
      "text/html": [
       "<div>\n",
       "<style scoped>\n",
       "    .dataframe tbody tr th:only-of-type {\n",
       "        vertical-align: middle;\n",
       "    }\n",
       "\n",
       "    .dataframe tbody tr th {\n",
       "        vertical-align: top;\n",
       "    }\n",
       "\n",
       "    .dataframe thead th {\n",
       "        text-align: right;\n",
       "    }\n",
       "</style>\n",
       "<table border=\"1\" class=\"dataframe\">\n",
       "  <thead>\n",
       "    <tr style=\"text-align: right;\">\n",
       "      <th></th>\n",
       "      <th>review</th>\n",
       "      <th>sentiment</th>\n",
       "    </tr>\n",
       "  </thead>\n",
       "  <tbody>\n",
       "    <tr>\n",
       "      <th>0</th>\n",
       "      <td>One of the other reviewers has mentioned that ...</td>\n",
       "      <td>positive</td>\n",
       "    </tr>\n",
       "    <tr>\n",
       "      <th>1</th>\n",
       "      <td>A wonderful little production. &lt;br /&gt;&lt;br /&gt;The...</td>\n",
       "      <td>positive</td>\n",
       "    </tr>\n",
       "    <tr>\n",
       "      <th>2</th>\n",
       "      <td>I thought this was a wonderful way to spend ti...</td>\n",
       "      <td>positive</td>\n",
       "    </tr>\n",
       "    <tr>\n",
       "      <th>3</th>\n",
       "      <td>Basically there's a family where a little boy ...</td>\n",
       "      <td>negative</td>\n",
       "    </tr>\n",
       "    <tr>\n",
       "      <th>4</th>\n",
       "      <td>Petter Mattei's \"Love in the Time of Money\" is...</td>\n",
       "      <td>positive</td>\n",
       "    </tr>\n",
       "  </tbody>\n",
       "</table>\n",
       "</div>"
      ],
      "text/plain": [
       "                                              review sentiment\n",
       "0  One of the other reviewers has mentioned that ...  positive\n",
       "1  A wonderful little production. <br /><br />The...  positive\n",
       "2  I thought this was a wonderful way to spend ti...  positive\n",
       "3  Basically there's a family where a little boy ...  negative\n",
       "4  Petter Mattei's \"Love in the Time of Money\" is...  positive"
      ]
     },
     "execution_count": 6,
     "metadata": {},
     "output_type": "execute_result"
    }
   ],
   "source": [
    "data = pd.read_csv('./imdb.csv')\n",
    "data.head()"
   ]
  },
  {
   "cell_type": "code",
   "execution_count": 11,
   "id": "7e2839e7-d41e-4415-b1e9-682eeb7571df",
   "metadata": {},
   "outputs": [
    {
     "name": "stdout",
     "output_type": "stream",
     "text": [
      "<bound method NDFrame.head of                                                   review sentiment\n",
      "0      One of the other reviewers has mentioned that ...  positive\n",
      "1      A wonderful little production. <br /><br />The...  positive\n",
      "2      I thought this was a wonderful way to spend ti...  positive\n",
      "4      Petter Mattei's \"Love in the Time of Money\" is...  positive\n",
      "5      Probably my all-time favorite movie, a story o...  positive\n",
      "...                                                  ...       ...\n",
      "49983  I loved it, having been a fan of the original ...  positive\n",
      "49985  Imaginary Heroes is clearly the best film of t...  positive\n",
      "49989  I got this one a few weeks ago and love it! It...  positive\n",
      "49992  John Garfield plays a Marine who is blinded by...  positive\n",
      "49995  I thought this movie did a down right good job...  positive\n",
      "\n",
      "[25000 rows x 2 columns]>\n",
      "<bound method NDFrame.head of                                                   review sentiment\n",
      "3      Basically there's a family where a little boy ...  negative\n",
      "7      This show was an amazing, fresh & innovative i...  negative\n",
      "8      Encouraged by the positive comments about this...  negative\n",
      "10     Phil the Alien is one of those quirky films wh...  negative\n",
      "11     I saw this movie when I was about 12 when it c...  negative\n",
      "...                                                  ...       ...\n",
      "49994  This is your typical junk comedy.<br /><br />T...  negative\n",
      "49996  Bad plot, bad dialogue, bad acting, idiotic di...  negative\n",
      "49997  I am a Catholic taught in parochial elementary...  negative\n",
      "49998  I'm going to have to disagree with the previou...  negative\n",
      "49999  No one expects the Star Trek movies to be high...  negative\n",
      "\n",
      "[25000 rows x 2 columns]>\n"
     ]
    }
   ],
   "source": [
    "positive = data.loc[data['sentiment'] == 'positive']\n",
    "negative = data.loc[data.sentiment == 'negative']\n",
    "print(positive.head)\n",
    "print(negative.head)"
   ]
  },
  {
   "cell_type": "code",
   "execution_count": 28,
   "id": "75e3864e-4cb6-4115-9db5-0c5b40c2818c",
   "metadata": {},
   "outputs": [
    {
     "name": "stdout",
     "output_type": "stream",
     "text": [
      "A wonderful little production. <br /><br />The filming technique is very unassuming- very old-time-BBC fashion and gives a comforting, and sometimes discomforting, sense of realism to the entire piece. <br /><br />The actors are extremely well chosen- Michael Sheen not only \"has got all the polari\" but he has all the voices down pat too! You can truly see the seamless editing guided by the references to Williams' diary entries, not only is it well worth the watching but it is a terrificly written and performed piece. A masterful production about one of the great master's of comedy and his life. <br /><br />The realism really comes home with the little things: the fantasy of the guard which, rather than use the traditional 'dream' techniques remains solid then disappears. It plays on our knowledge and our senses, particularly with the scenes concerning Orton and Halliwell and the sets (particularly of their flat with Halliwell's murals decorating every surface) are terribly well done.\n"
     ]
    }
   ],
   "source": [
    "test = positive.review[1]\n",
    "print(test)"
   ]
  },
  {
   "cell_type": "code",
   "execution_count": 29,
   "id": "163ac362-d9e0-4e06-af3c-783bd394c3a0",
   "metadata": {},
   "outputs": [
    {
     "name": "stdout",
     "output_type": "stream",
     "text": [
      "Original:\n",
      "A wonderful little production. <br /><br />The filming technique is very unassuming- very old-time-BBC fashion and gives a comforting, and sometimes discomforting, sense of realism to the entire piece. <br /><br />The actors are extremely well chosen- Michael Sheen not only \"has got all the polari\" but he has all the voices down pat too! You can truly see the seamless editing guided by the references to Williams' diary entries, not only is it well worth the watching but it is a terrificly written and performed piece. A masterful production about one of the great master's of comedy and his life. <br /><br />The realism really comes home with the little things: the fantasy of the guard which, rather than use the traditional 'dream' techniques remains solid then disappears. It plays on our knowledge and our senses, particularly with the scenes concerning Orton and Halliwell and the sets (particularly of their flat with Halliwell's murals decorating every surface) are terribly well done.\n",
      "Augmented Texts:\n",
      "\n",
      "A wonderful little production. <br /> <br /> The filming technique is very unassuming - rattling old - time - BBC fashion and gives a comforting, and sometimes discomforting, sense of realism to the entire piece. <br /> <br /> The actors are extremely well chosen - Michael Sheen not only \" has got all the polari \" but he has altogether the voices down pat too! You can truly see the seamless editing guided by the references to Williams ' diary entries, not just is it well worth the watching but it is a terrificly written and performed piece. A masterful production about one of the great master ' s of drollery and his life. <br /> <br /> The realism really comes home with the little things: the fantasy of the guard which, rather than habituate the traditional ' dream ' techniques remains solid then disappears. It plays on our knowledge and our senses, particularly with the scenes concerning Orton and Halliwell and the set (particularly of their flat with Halliwell ' s murals embellish every surface) be terribly well done.\n",
      "\n"
     ]
    }
   ],
   "source": [
    "aug = naw.SynonymAug(aug_src='wordnet')\n",
    "augmented_texts = aug.augment(test)\n",
    "print(\"Original:\")\n",
    "print(test)\n",
    "\n",
    "print(\"Augmented Texts:\\n\")\n",
    "for aug in augmented_texts:\n",
    "    print(aug+'\\n')"
   ]
  },
  {
   "cell_type": "code",
   "execution_count": null,
   "id": "573e9715-5708-476d-9449-753ed88129cb",
   "metadata": {},
   "outputs": [],
   "source": []
  }
 ],
 "metadata": {
  "kernelspec": {
   "display_name": "Python 3 (ipykernel)",
   "language": "python",
   "name": "python3"
  },
  "language_info": {
   "codemirror_mode": {
    "name": "ipython",
    "version": 3
   },
   "file_extension": ".py",
   "mimetype": "text/x-python",
   "name": "python",
   "nbconvert_exporter": "python",
   "pygments_lexer": "ipython3",
   "version": "3.9.5"
  }
 },
 "nbformat": 4,
 "nbformat_minor": 5
}
