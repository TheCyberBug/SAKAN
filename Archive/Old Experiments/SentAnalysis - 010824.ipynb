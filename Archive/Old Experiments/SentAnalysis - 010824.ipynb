{
 "cells": [
  {
   "cell_type": "markdown",
   "metadata": {},
   "source": [
    "# TODOs\n",
    "1. ### <s> Lemmatize input - Good\n",
    "2. ### <s> Replace CNNs with KAN-CNNs - Won't learn, Revisit last\n",
    "3. ### Prune and test\n",
    "4. ### <s> B-spline Finetuning - Best with splines = 3\n",
    "5. ### CNN operates on whole embedded lvl - test on various depths (3, 9, 27, 81)\n",
    "6. ### Deeper CNN - 1 + 3 + 5 gram feed into Deep CNN -> KAN \n",
    "7. ### Data Augmentation\n",
    "8. ### Limit Vocab Size\n",
    "9. ### Try Word2Vec or Glove pre-trained"
   ]
  },
  {
   "cell_type": "code",
   "execution_count": 1,
   "metadata": {},
   "outputs": [
    {
     "name": "stdout",
     "output_type": "stream",
     "text": [
      "cuda\n"
     ]
    }
   ],
   "source": [
    "from fastkan import FastKAN as KAN\n",
    "\n",
    "import pandas as pd\n",
    "import numpy as np\n",
    "\n",
    "import torch\n",
    "import torch.nn as nn\n",
    "import torch.nn.functional as F\n",
    "import torch.optim as optim\n",
    "import torchvision\n",
    "import torchvision.transforms as transforms\n",
    "from torch.utils.data import DataLoader, TensorDataset\n",
    "\n",
    "from fastkan import FastKAN as KAN\n",
    "\n",
    "from tqdm import tqdm\n",
    "tqdm.pandas()\n",
    "\n",
    "from sklearn.model_selection import train_test_split\n",
    "\n",
    "import torchtext\n",
    "torchtext.disable_torchtext_deprecation_warning()\n",
    "\n",
    "from torchtext.datasets import IMDB\n",
    "from transformers import GPT2Tokenizer\n",
    "\n",
    "device = torch.device(\"cuda\" if torch.cuda.is_available() else \"cpu\")\n",
    "print(device)"
   ]
  },
  {
   "cell_type": "code",
   "execution_count": 2,
   "metadata": {},
   "outputs": [
    {
     "name": "stderr",
     "output_type": "stream",
     "text": [
      "[nltk_data] Downloading package punkt to\n",
      "[nltk_data]     C:\\Users\\kaloq\\AppData\\Roaming\\nltk_data...\n",
      "[nltk_data]   Package punkt is already up-to-date!\n",
      "[nltk_data] Downloading package stopwords to\n",
      "[nltk_data]     C:\\Users\\kaloq\\AppData\\Roaming\\nltk_data...\n",
      "[nltk_data]   Package stopwords is already up-to-date!\n",
      "[nltk_data] Downloading package wordnet to\n",
      "[nltk_data]     C:\\Users\\kaloq\\AppData\\Roaming\\nltk_data...\n",
      "[nltk_data]   Package wordnet is already up-to-date!\n"
     ]
    },
    {
     "data": {
      "text/plain": [
       "True"
      ]
     },
     "execution_count": 2,
     "metadata": {},
     "output_type": "execute_result"
    }
   ],
   "source": [
    "import nltk\n",
    "from nltk.corpus import stopwords\n",
    "from nltk.tokenize import word_tokenize\n",
    "from nltk.stem import WordNetLemmatizer\n",
    "import re\n",
    "\n",
    "# Download necessary NLTK data\n",
    "nltk.download('punkt')\n",
    "nltk.download('stopwords')\n",
    "nltk.download('wordnet')"
   ]
  },
  {
   "cell_type": "code",
   "execution_count": 3,
   "metadata": {},
   "outputs": [
    {
     "data": {
      "text/html": [
       "<div>\n",
       "<style scoped>\n",
       "    .dataframe tbody tr th:only-of-type {\n",
       "        vertical-align: middle;\n",
       "    }\n",
       "\n",
       "    .dataframe tbody tr th {\n",
       "        vertical-align: top;\n",
       "    }\n",
       "\n",
       "    .dataframe thead th {\n",
       "        text-align: right;\n",
       "    }\n",
       "</style>\n",
       "<table border=\"1\" class=\"dataframe\">\n",
       "  <thead>\n",
       "    <tr style=\"text-align: right;\">\n",
       "      <th></th>\n",
       "      <th>review</th>\n",
       "      <th>sentiment</th>\n",
       "    </tr>\n",
       "  </thead>\n",
       "  <tbody>\n",
       "    <tr>\n",
       "      <th>0</th>\n",
       "      <td>One of the other reviewers has mentioned that ...</td>\n",
       "      <td>positive</td>\n",
       "    </tr>\n",
       "    <tr>\n",
       "      <th>1</th>\n",
       "      <td>A wonderful little production. &lt;br /&gt;&lt;br /&gt;The...</td>\n",
       "      <td>positive</td>\n",
       "    </tr>\n",
       "    <tr>\n",
       "      <th>2</th>\n",
       "      <td>I thought this was a wonderful way to spend ti...</td>\n",
       "      <td>positive</td>\n",
       "    </tr>\n",
       "    <tr>\n",
       "      <th>3</th>\n",
       "      <td>Basically there's a family where a little boy ...</td>\n",
       "      <td>negative</td>\n",
       "    </tr>\n",
       "    <tr>\n",
       "      <th>4</th>\n",
       "      <td>Petter Mattei's \"Love in the Time of Money\" is...</td>\n",
       "      <td>positive</td>\n",
       "    </tr>\n",
       "  </tbody>\n",
       "</table>\n",
       "</div>"
      ],
      "text/plain": [
       "                                              review sentiment\n",
       "0  One of the other reviewers has mentioned that ...  positive\n",
       "1  A wonderful little production. <br /><br />The...  positive\n",
       "2  I thought this was a wonderful way to spend ti...  positive\n",
       "3  Basically there's a family where a little boy ...  negative\n",
       "4  Petter Mattei's \"Love in the Time of Money\" is...  positive"
      ]
     },
     "execution_count": 3,
     "metadata": {},
     "output_type": "execute_result"
    }
   ],
   "source": [
    "data = pd.read_csv('./imdb.csv')\n",
    "data.head()"
   ]
  },
  {
   "cell_type": "code",
   "execution_count": 4,
   "metadata": {},
   "outputs": [
    {
     "name": "stderr",
     "output_type": "stream",
     "text": [
      "100%|██████████| 50000/50000 [00:00<00:00, 1325708.80it/s]\n"
     ]
    },
    {
     "data": {
      "text/html": [
       "<div>\n",
       "<style scoped>\n",
       "    .dataframe tbody tr th:only-of-type {\n",
       "        vertical-align: middle;\n",
       "    }\n",
       "\n",
       "    .dataframe tbody tr th {\n",
       "        vertical-align: top;\n",
       "    }\n",
       "\n",
       "    .dataframe thead th {\n",
       "        text-align: right;\n",
       "    }\n",
       "</style>\n",
       "<table border=\"1\" class=\"dataframe\">\n",
       "  <thead>\n",
       "    <tr style=\"text-align: right;\">\n",
       "      <th></th>\n",
       "      <th>review</th>\n",
       "      <th>sentiment</th>\n",
       "      <th>label</th>\n",
       "    </tr>\n",
       "  </thead>\n",
       "  <tbody>\n",
       "    <tr>\n",
       "      <th>0</th>\n",
       "      <td>One of the other reviewers has mentioned that ...</td>\n",
       "      <td>positive</td>\n",
       "      <td>1</td>\n",
       "    </tr>\n",
       "    <tr>\n",
       "      <th>1</th>\n",
       "      <td>A wonderful little production. &lt;br /&gt;&lt;br /&gt;The...</td>\n",
       "      <td>positive</td>\n",
       "      <td>1</td>\n",
       "    </tr>\n",
       "    <tr>\n",
       "      <th>2</th>\n",
       "      <td>I thought this was a wonderful way to spend ti...</td>\n",
       "      <td>positive</td>\n",
       "      <td>1</td>\n",
       "    </tr>\n",
       "    <tr>\n",
       "      <th>3</th>\n",
       "      <td>Basically there's a family where a little boy ...</td>\n",
       "      <td>negative</td>\n",
       "      <td>0</td>\n",
       "    </tr>\n",
       "    <tr>\n",
       "      <th>4</th>\n",
       "      <td>Petter Mattei's \"Love in the Time of Money\" is...</td>\n",
       "      <td>positive</td>\n",
       "      <td>1</td>\n",
       "    </tr>\n",
       "  </tbody>\n",
       "</table>\n",
       "</div>"
      ],
      "text/plain": [
       "                                              review sentiment  label\n",
       "0  One of the other reviewers has mentioned that ...  positive      1\n",
       "1  A wonderful little production. <br /><br />The...  positive      1\n",
       "2  I thought this was a wonderful way to spend ti...  positive      1\n",
       "3  Basically there's a family where a little boy ...  negative      0\n",
       "4  Petter Mattei's \"Love in the Time of Money\" is...  positive      1"
      ]
     },
     "execution_count": 4,
     "metadata": {},
     "output_type": "execute_result"
    }
   ],
   "source": [
    "# Convert labels to binary\n",
    "def transform_label(label):\n",
    "    return 1 if label == 'positive' else 0\n",
    "\n",
    "data['label'] = data['sentiment'].progress_apply(transform_label)\n",
    "data.head()"
   ]
  },
  {
   "cell_type": "code",
   "execution_count": 5,
   "metadata": {},
   "outputs": [
    {
     "data": {
      "text/plain": [
       "sentiment\n",
       "positive    25000\n",
       "negative    25000\n",
       "Name: count, dtype: int64"
      ]
     },
     "execution_count": 5,
     "metadata": {},
     "output_type": "execute_result"
    }
   ],
   "source": [
    "# Check for dataset imbalance\n",
    "data.sentiment.value_counts()"
   ]
  },
  {
   "cell_type": "code",
   "execution_count": 6,
   "metadata": {},
   "outputs": [
    {
     "name": "stderr",
     "output_type": "stream",
     "text": [
      "100%|██████████| 50000/50000 [00:00<00:00, 110251.55it/s]\n"
     ]
    },
    {
     "data": {
      "text/html": [
       "<div>\n",
       "<style scoped>\n",
       "    .dataframe tbody tr th:only-of-type {\n",
       "        vertical-align: middle;\n",
       "    }\n",
       "\n",
       "    .dataframe tbody tr th {\n",
       "        vertical-align: top;\n",
       "    }\n",
       "\n",
       "    .dataframe thead th {\n",
       "        text-align: right;\n",
       "    }\n",
       "</style>\n",
       "<table border=\"1\" class=\"dataframe\">\n",
       "  <thead>\n",
       "    <tr style=\"text-align: right;\">\n",
       "      <th></th>\n",
       "      <th>review</th>\n",
       "      <th>sentiment</th>\n",
       "      <th>label</th>\n",
       "      <th>token_length</th>\n",
       "    </tr>\n",
       "  </thead>\n",
       "  <tbody>\n",
       "    <tr>\n",
       "      <th>0</th>\n",
       "      <td>One of the other reviewers has mentioned that ...</td>\n",
       "      <td>positive</td>\n",
       "      <td>1</td>\n",
       "      <td>307</td>\n",
       "    </tr>\n",
       "    <tr>\n",
       "      <th>1</th>\n",
       "      <td>A wonderful little production. &lt;br /&gt;&lt;br /&gt;The...</td>\n",
       "      <td>positive</td>\n",
       "      <td>1</td>\n",
       "      <td>162</td>\n",
       "    </tr>\n",
       "    <tr>\n",
       "      <th>2</th>\n",
       "      <td>I thought this was a wonderful way to spend ti...</td>\n",
       "      <td>positive</td>\n",
       "      <td>1</td>\n",
       "      <td>166</td>\n",
       "    </tr>\n",
       "    <tr>\n",
       "      <th>3</th>\n",
       "      <td>Basically there's a family where a little boy ...</td>\n",
       "      <td>negative</td>\n",
       "      <td>0</td>\n",
       "      <td>138</td>\n",
       "    </tr>\n",
       "    <tr>\n",
       "      <th>4</th>\n",
       "      <td>Petter Mattei's \"Love in the Time of Money\" is...</td>\n",
       "      <td>positive</td>\n",
       "      <td>1</td>\n",
       "      <td>230</td>\n",
       "    </tr>\n",
       "  </tbody>\n",
       "</table>\n",
       "</div>"
      ],
      "text/plain": [
       "                                              review sentiment  label  \\\n",
       "0  One of the other reviewers has mentioned that ...  positive      1   \n",
       "1  A wonderful little production. <br /><br />The...  positive      1   \n",
       "2  I thought this was a wonderful way to spend ti...  positive      1   \n",
       "3  Basically there's a family where a little boy ...  negative      0   \n",
       "4  Petter Mattei's \"Love in the Time of Money\" is...  positive      1   \n",
       "\n",
       "   token_length  \n",
       "0           307  \n",
       "1           162  \n",
       "2           166  \n",
       "3           138  \n",
       "4           230  "
      ]
     },
     "execution_count": 6,
     "metadata": {},
     "output_type": "execute_result"
    }
   ],
   "source": [
    "# Review token length\n",
    "data['token_length'] = data.review.progress_apply(lambda x: len(x.split()))\n",
    "data.head()"
   ]
  },
  {
   "cell_type": "code",
   "execution_count": 7,
   "metadata": {},
   "outputs": [
    {
     "name": "stdout",
     "output_type": "stream",
     "text": [
      "Positive review length\n"
     ]
    },
    {
     "data": {
      "text/plain": [
       "count    25000.000000\n",
       "mean       232.849320\n",
       "std        177.497046\n",
       "min         10.000000\n",
       "25%        125.000000\n",
       "50%        172.000000\n",
       "75%        284.000000\n",
       "max       2470.000000\n",
       "Name: token_length, dtype: float64"
      ]
     },
     "execution_count": 7,
     "metadata": {},
     "output_type": "execute_result"
    }
   ],
   "source": [
    "data_pos = data[data['label'] == 1]\n",
    "print(\"Positive review length\")\n",
    "data_pos['token_length'].describe()"
   ]
  },
  {
   "cell_type": "code",
   "execution_count": 8,
   "metadata": {},
   "outputs": [
    {
     "name": "stdout",
     "output_type": "stream",
     "text": [
      "Negative review length\n"
     ]
    },
    {
     "data": {
      "text/plain": [
       "count    25000.000000\n",
       "mean       229.464560\n",
       "std        164.947795\n",
       "min          4.000000\n",
       "25%        128.000000\n",
       "50%        174.000000\n",
       "75%        278.000000\n",
       "max       1522.000000\n",
       "Name: token_length, dtype: float64"
      ]
     },
     "execution_count": 8,
     "metadata": {},
     "output_type": "execute_result"
    }
   ],
   "source": [
    "data_neg = data[data['label'] == 0]\n",
    "print(\"Negative review length\")\n",
    "data_neg['token_length'].describe()"
   ]
  },
  {
   "cell_type": "code",
   "execution_count": 9,
   "metadata": {},
   "outputs": [],
   "source": [
    "stop_words = set(stopwords.words('english'))\n",
    "\n",
    "def preprocess_text(text):\n",
    "    # Lowercase the text\n",
    "    text = text.lower()\n",
    "    \n",
    "    # Remove HTML tags\n",
    "    text = re.sub(r'<.*?>', ' ', text)\n",
    "    \n",
    "    # Remove punctuation and special characters\n",
    "    text = re.sub(r'[^a-zA-Z0-9\\s]', ' ', text)\n",
    "\n",
    "    # \n",
    "    words = word_tokenize(text)\n",
    "    sent = [word for word in words if word not in stop_words]\n",
    "    sent = ' '.join(sent)\n",
    "    \n",
    "    return sent"
   ]
  },
  {
   "cell_type": "code",
   "execution_count": 10,
   "metadata": {},
   "outputs": [
    {
     "name": "stderr",
     "output_type": "stream",
     "text": [
      "100%|██████████| 50000/50000 [00:25<00:00, 1982.66it/s]\n"
     ]
    },
    {
     "data": {
      "text/html": [
       "<div>\n",
       "<style scoped>\n",
       "    .dataframe tbody tr th:only-of-type {\n",
       "        vertical-align: middle;\n",
       "    }\n",
       "\n",
       "    .dataframe tbody tr th {\n",
       "        vertical-align: top;\n",
       "    }\n",
       "\n",
       "    .dataframe thead th {\n",
       "        text-align: right;\n",
       "    }\n",
       "</style>\n",
       "<table border=\"1\" class=\"dataframe\">\n",
       "  <thead>\n",
       "    <tr style=\"text-align: right;\">\n",
       "      <th></th>\n",
       "      <th>review</th>\n",
       "      <th>sentiment</th>\n",
       "      <th>label</th>\n",
       "      <th>token_length</th>\n",
       "      <th>clean</th>\n",
       "    </tr>\n",
       "  </thead>\n",
       "  <tbody>\n",
       "    <tr>\n",
       "      <th>0</th>\n",
       "      <td>One of the other reviewers has mentioned that ...</td>\n",
       "      <td>positive</td>\n",
       "      <td>1</td>\n",
       "      <td>307</td>\n",
       "      <td>one reviewers mentioned watching 1 oz episode ...</td>\n",
       "    </tr>\n",
       "    <tr>\n",
       "      <th>1</th>\n",
       "      <td>A wonderful little production. &lt;br /&gt;&lt;br /&gt;The...</td>\n",
       "      <td>positive</td>\n",
       "      <td>1</td>\n",
       "      <td>162</td>\n",
       "      <td>wonderful little production filming technique ...</td>\n",
       "    </tr>\n",
       "    <tr>\n",
       "      <th>2</th>\n",
       "      <td>I thought this was a wonderful way to spend ti...</td>\n",
       "      <td>positive</td>\n",
       "      <td>1</td>\n",
       "      <td>166</td>\n",
       "      <td>thought wonderful way spend time hot summer we...</td>\n",
       "    </tr>\n",
       "    <tr>\n",
       "      <th>3</th>\n",
       "      <td>Basically there's a family where a little boy ...</td>\n",
       "      <td>negative</td>\n",
       "      <td>0</td>\n",
       "      <td>138</td>\n",
       "      <td>basically family little boy jake thinks zombie...</td>\n",
       "    </tr>\n",
       "    <tr>\n",
       "      <th>4</th>\n",
       "      <td>Petter Mattei's \"Love in the Time of Money\" is...</td>\n",
       "      <td>positive</td>\n",
       "      <td>1</td>\n",
       "      <td>230</td>\n",
       "      <td>petter mattei love time money visually stunnin...</td>\n",
       "    </tr>\n",
       "  </tbody>\n",
       "</table>\n",
       "</div>"
      ],
      "text/plain": [
       "                                              review sentiment  label  \\\n",
       "0  One of the other reviewers has mentioned that ...  positive      1   \n",
       "1  A wonderful little production. <br /><br />The...  positive      1   \n",
       "2  I thought this was a wonderful way to spend ti...  positive      1   \n",
       "3  Basically there's a family where a little boy ...  negative      0   \n",
       "4  Petter Mattei's \"Love in the Time of Money\" is...  positive      1   \n",
       "\n",
       "   token_length                                              clean  \n",
       "0           307  one reviewers mentioned watching 1 oz episode ...  \n",
       "1           162  wonderful little production filming technique ...  \n",
       "2           166  thought wonderful way spend time hot summer we...  \n",
       "3           138  basically family little boy jake thinks zombie...  \n",
       "4           230  petter mattei love time money visually stunnin...  "
      ]
     },
     "execution_count": 10,
     "metadata": {},
     "output_type": "execute_result"
    }
   ],
   "source": [
    "# Preprocessing\n",
    "data['clean'] = data.review.progress_apply(preprocess_text)\n",
    "data.head()"
   ]
  },
  {
   "cell_type": "code",
   "execution_count": 11,
   "metadata": {},
   "outputs": [],
   "source": [
    "tokenizer = GPT2Tokenizer.from_pretrained('gpt2')"
   ]
  },
  {
   "cell_type": "code",
   "execution_count": 12,
   "metadata": {},
   "outputs": [],
   "source": [
    "lemmatizer = WordNetLemmatizer()\n",
    "def lemmatize_text(text):\n",
    "    # Tokenize the text if necessary\n",
    "    words = text.split()\n",
    "    # Lemmatize each word in the text\n",
    "    lemmatized_words = [lemmatizer.lemmatize(word) for word in words]\n",
    "    # Join the lemmatized words back into a string\n",
    "    lemmatized_text = ' '.join(lemmatized_words)\n",
    "    return lemmatized_text"
   ]
  },
  {
   "cell_type": "code",
   "execution_count": 13,
   "metadata": {},
   "outputs": [
    {
     "name": "stderr",
     "output_type": "stream",
     "text": [
      "100%|██████████| 50000/50000 [00:14<00:00, 3513.94it/s]\n"
     ]
    }
   ],
   "source": [
    "data['lemma'] = data['clean'].progress_apply(lemmatize_text)"
   ]
  },
  {
   "cell_type": "code",
   "execution_count": 14,
   "metadata": {},
   "outputs": [],
   "source": [
    "# for n in range(20):\n",
    "#     print(data['clean'][n])\n",
    "#     print(data['lemma'][n])"
   ]
  },
  {
   "cell_type": "code",
   "execution_count": 15,
   "metadata": {},
   "outputs": [
    {
     "name": "stderr",
     "output_type": "stream",
     "text": [
      "100%|██████████| 50000/50000 [00:31<00:00, 1577.58it/s]\n"
     ]
    }
   ],
   "source": [
    "tokenizer.pad_token = tokenizer.eos_token\n",
    "max_l = 256\n",
    "data['tokenized'] = data.lemma.progress_apply(lambda x: tokenizer.encode(text=x, add_special_tokens=False, truncation=True, add_prefix_space=True, padding='max_length', max_length=max_l))"
   ]
  },
  {
   "cell_type": "code",
   "execution_count": 16,
   "metadata": {},
   "outputs": [],
   "source": [
    "# # Check actual tokenized text len\n",
    "# data['ct_length'] = data.tokenized.progress_apply(lambda x: len(x))\n",
    "# data_pos = data[data['label'] == 1]\n",
    "# data_pos['ct_length'].describe()"
   ]
  },
  {
   "cell_type": "code",
   "execution_count": 17,
   "metadata": {},
   "outputs": [],
   "source": [
    "# split the data\n",
    "X = data.tokenized\n",
    "y = data.label\n",
    "X_train, X_test, y_train, y_test = train_test_split(X, y, test_size=0.2, random_state=37)\n",
    "\n",
    "# Convert to tensors\n",
    "X_train_tensor = torch.tensor(X_train.tolist()).to(device)\n",
    "X_test_tensor = torch.tensor(X_test.tolist()).to(device)\n",
    "y_train_tensor = torch.tensor(y_train.tolist()).to(device)\n",
    "y_test_tensor = torch.tensor(y_test.tolist()).to(device)\n",
    "\n",
    "# Create Datasets - tensors\n",
    "train_dataset = TensorDataset(X_train_tensor, y_train_tensor)\n",
    "test_dataset = TensorDataset(X_test_tensor, y_test_tensor)"
   ]
  },
  {
   "cell_type": "code",
   "execution_count": 18,
   "metadata": {},
   "outputs": [],
   "source": [
    "# Batch the data\n",
    "batch_size = 64\n",
    "train_loader = DataLoader(train_dataset, batch_size=batch_size, shuffle=True)\n",
    "test_loader = DataLoader(test_dataset, batch_size=batch_size, shuffle=False)"
   ]
  },
  {
   "cell_type": "code",
   "execution_count": 19,
   "metadata": {},
   "outputs": [
    {
     "data": {
      "text/plain": [
       "CustomCNN(\n",
       "  (embedding): Embedding(50257, 32)\n",
       "  (conv1): Conv2d(1, 256, kernel_size=(1, 32), stride=(1, 1))\n",
       "  (bn1): BatchNorm2d(256, eps=1e-05, momentum=0.1, affine=True, track_running_stats=True)\n",
       "  (pool1): MaxPool1d(kernel_size=2, stride=2, padding=0, dilation=1, ceil_mode=False)\n",
       "  (dropout1): Dropout(p=0.25, inplace=False)\n",
       "  (conv2): Conv2d(1, 256, kernel_size=(3, 32), stride=(1, 1), padding=(1, 0))\n",
       "  (bn2): BatchNorm2d(256, eps=1e-05, momentum=0.1, affine=True, track_running_stats=True)\n",
       "  (pool2): MaxPool1d(kernel_size=2, stride=2, padding=0, dilation=1, ceil_mode=False)\n",
       "  (dropout2): Dropout(p=0.25, inplace=False)\n",
       "  (conv3): Conv2d(1, 256, kernel_size=(5, 32), stride=(1, 1), padding=(2, 0))\n",
       "  (bn3): BatchNorm2d(256, eps=1e-05, momentum=0.1, affine=True, track_running_stats=True)\n",
       "  (pool3): MaxPool1d(kernel_size=2, stride=2, padding=0, dilation=1, ceil_mode=False)\n",
       "  (dropout3): Dropout(p=0.25, inplace=False)\n",
       "  (final_conv): Conv2d(768, 1024, kernel_size=(3, 3), stride=(1, 1), padding=(1, 1))\n",
       "  (bn_final): BatchNorm2d(1024, eps=1e-05, momentum=0.1, affine=True, track_running_stats=True)\n",
       "  (pool_final): MaxPool2d(kernel_size=(2, 1), stride=(2, 1), padding=0, dilation=1, ceil_mode=False)\n",
       "  (dropout_pcat1): Dropout(p=0.25, inplace=False)\n",
       "  (conv_pcat2): Conv2d(1024, 2048, kernel_size=(3, 3), stride=(1, 1), padding=(1, 1))\n",
       "  (bn_pcat2): BatchNorm2d(2048, eps=1e-05, momentum=0.1, affine=True, track_running_stats=True)\n",
       "  (pool_pcat2): MaxPool2d(kernel_size=(2, 1), stride=(2, 1), padding=0, dilation=1, ceil_mode=False)\n",
       "  (dropout_pcat2): Dropout(p=0.25, inplace=False)\n",
       "  (conv_pcat3): Conv2d(2048, 4096, kernel_size=(3, 3), stride=(1, 1), padding=(1, 1))\n",
       "  (bn_pcat3): BatchNorm2d(4096, eps=1e-05, momentum=0.1, affine=True, track_running_stats=True)\n",
       "  (pool_pcat3): MaxPool2d(kernel_size=(4, 1), stride=(4, 1), padding=0, dilation=1, ceil_mode=False)\n",
       "  (dropout_pcat3): Dropout(p=0.25, inplace=False)\n",
       "  (bilstm): LSTM(32768, 1024, batch_first=True, bidirectional=True)\n",
       "  (kan): FastKAN(\n",
       "    (layers): ModuleList(\n",
       "      (0): FastKANLayer(\n",
       "        (layernorm): LayerNorm((2048,), eps=1e-05, elementwise_affine=True)\n",
       "        (rbf): RadialBasisFunction()\n",
       "        (spline_linear): SplineLinear(in_features=16384, out_features=256, bias=False)\n",
       "        (base_linear): Linear(in_features=2048, out_features=256, bias=True)\n",
       "      )\n",
       "      (1): FastKANLayer(\n",
       "        (layernorm): LayerNorm((256,), eps=1e-05, elementwise_affine=True)\n",
       "        (rbf): RadialBasisFunction()\n",
       "        (spline_linear): SplineLinear(in_features=2048, out_features=64, bias=False)\n",
       "        (base_linear): Linear(in_features=256, out_features=64, bias=True)\n",
       "      )\n",
       "      (2): FastKANLayer(\n",
       "        (layernorm): LayerNorm((64,), eps=1e-05, elementwise_affine=True)\n",
       "        (rbf): RadialBasisFunction()\n",
       "        (spline_linear): SplineLinear(in_features=512, out_features=2, bias=False)\n",
       "        (base_linear): Linear(in_features=64, out_features=2, bias=True)\n",
       "      )\n",
       "    )\n",
       "  )\n",
       ")"
      ]
     },
     "execution_count": 19,
     "metadata": {},
     "output_type": "execute_result"
    }
   ],
   "source": [
    "import torch\n",
    "import torch.nn as nn\n",
    "import torch.nn.functional as F\n",
    "\n",
    "# Model -.-% ACC\n",
    "# Small + BiLSTM\n",
    "\n",
    "class CustomCNN(nn.Module):\n",
    "    def __init__(self, vocab_size, embed_dim):\n",
    "        super(CustomCNN, self).__init__()\n",
    "        \n",
    "        # Embedding layer\n",
    "        self.embedding = nn.Embedding(vocab_size, embed_dim)\n",
    "        \n",
    "        # Conv layers with different kernel sizes\n",
    "        self.conv1 = nn.Conv2d(1, 256, (1, embed_dim), padding=(0, 0))\n",
    "        self.bn1 = nn.BatchNorm2d(256)\n",
    "        self.pool1 = nn.MaxPool1d(2)\n",
    "        self.dropout1 = nn.Dropout(0.25) \n",
    "        \n",
    "        self.conv2 = nn.Conv2d(1, 256, (3, embed_dim), padding=(1, 0))\n",
    "        self.bn2 = nn.BatchNorm2d(256)\n",
    "        self.pool2 = nn.MaxPool1d(2)\n",
    "        self.dropout2 = nn.Dropout(0.25) \n",
    "        \n",
    "        self.conv3 = nn.Conv2d(1, 256, (5, embed_dim), padding=(2, 0))\n",
    "        self.bn3 = nn.BatchNorm2d(256)\n",
    "        self.pool3 = nn.MaxPool1d(2)\n",
    "        self.dropout3 = nn.Dropout(0.25) \n",
    "        \n",
    "        # Post PCAT Conv 1\n",
    "        self.final_conv = nn.Conv2d(3 * 256, 1024, (3, 3), padding=(1, 1))\n",
    "        \n",
    "        self.bn_final = nn.BatchNorm2d(1024)\n",
    "        self.pool_final = nn.MaxPool2d((2, 1))\n",
    "        self.dropout_pcat1 = nn.Dropout(0.25)\n",
    "\n",
    "        # Post PCAT Conv 2\n",
    "        self.conv_pcat2 = nn.Conv2d(1024, 2048, (3, 3), padding=(1, 1))\n",
    "\n",
    "        self.bn_pcat2 = nn.BatchNorm2d(2048)\n",
    "        self.pool_pcat2 = nn.MaxPool2d((2, 1))\n",
    "        self.dropout_pcat2 = nn.Dropout(0.25)\n",
    "\n",
    "        # Post PCAT Conv 3\n",
    "        self.conv_pcat3 = nn.Conv2d(2048, 4096, (3, 3), padding=(1, 1))\n",
    "\n",
    "        self.bn_pcat3 = nn.BatchNorm2d(4096)\n",
    "        self.pool_pcat3 = nn.MaxPool2d((4, 1))\n",
    "        self.dropout_pcat3 = nn.Dropout(0.25)\n",
    "\n",
    "        # BiLSTM\n",
    "        self.bilstm = nn.LSTM(input_size=32768, hidden_size=1024, num_layers=1, bidirectional=True, batch_first=True)\n",
    "        \n",
    "        # Replace dense layers with FastKAN\n",
    "        self.kan = KAN([2048, 256, 64, 2], num_grids=8)\n",
    "        \n",
    "    def forward(self, x):\n",
    "        # x shape: (batch_size, seq_len)\n",
    "        \n",
    "        # Embedding\n",
    "        x = self.embedding(x)  # shape: (batch_size, seq_len, embed_dim)\n",
    "        x = x.unsqueeze(1)  # shape: (batch_size, 1, seq_len, embed_dim)\n",
    "        \n",
    "        # Conv layer 1\n",
    "        x1 = self.conv1(x)  # shape: (batch_size, 100, seq_len-0, 1)\n",
    "        x1 = self.bn1(x1)\n",
    "        x1 = F.relu(x1)\n",
    "        x1 = x1.squeeze(3)  # shape: (batch_size, 100, seq_len-0)\n",
    "        x1 = self.pool1(x1)  # shape: (batch_size, 100, (seq_len-0)//2)\n",
    "        x1 = self.dropout1(x1)\n",
    "        \n",
    "        # Conv layer 2\n",
    "        x2 = self.conv2(x)  # shape: (batch_size, 100, seq_len-2, 1)\n",
    "        x2 = self.bn2(x2)\n",
    "        x2 = F.relu(x2)\n",
    "        x2 = x2.squeeze(3)  # shape: (batch_size, 100, seq_len-2)\n",
    "        x2 = self.pool2(x2)  # shape: (batch_size, 100, (seq_len-2)//2)\n",
    "        x2 = self.dropout2(x2)\n",
    "        \n",
    "        # Conv layer 3\n",
    "        x3 = self.conv3(x)  # shape: (batch_size, 100, seq_len-4, 1)\n",
    "        x3 = self.bn3(x3)\n",
    "        x3 = F.relu(x3)\n",
    "        x3 = x3.squeeze(3)  # shape: (batch_size, 100, seq_len-4)\n",
    "        x3 = self.pool3(x3)  # shape: (batch_size, 100, (seq_len-4)//2)\n",
    "        x3 = self.dropout3(x3) \n",
    "        \n",
    "        # Concatenate along the channel dimension\n",
    "        x_cat = torch.cat((x1, x2, x3), dim=1)  # shape: (batch_size, 300, ...)\n",
    "        x_cat = x_cat.unsqueeze(3)  # shape: (batch_size, 300, ..., 1)\n",
    "        \n",
    "        # PCAT1 Conv2D layer\n",
    "        x_out = self.final_conv(x_cat)  # shape: (batch_size, 100, ..., 1)\n",
    "        x_out = self.bn_final(x_out)\n",
    "        x_out = F.relu(x_out)\n",
    "        x_out = self.pool_final(x_out)  # shape: (batch_size, 100, ..., 1)\n",
    "\n",
    "        x_out = self.dropout_pcat1(x_out)\n",
    "\n",
    "        # PCAT2 Conv2D layer\n",
    "        x_out = self.conv_pcat2(x_out)  # shape: (batch_size, 100, ..., 1)\n",
    "        x_out = self.bn_pcat2(x_out)\n",
    "        x_out = F.relu(x_out)\n",
    "        x_out = self.pool_pcat2(x_out)  # shape: (batch_size, 100, ..., 1)\n",
    "\n",
    "        # PCAT3 Conv2D layer\n",
    "        x_out = self.conv_pcat3(x_out)  # shape: (batch_size, 100, ..., 1)\n",
    "        x_out = self.bn_pcat3(x_out)\n",
    "        x_out = F.relu(x_out)\n",
    "        x_out = self.pool_pcat3(x_out)  # shape: (batch_size, 100, ..., 1)\n",
    "        \n",
    "        # Flatten the tensor for the dense layer\n",
    "        x_out = x_out.view(x_out.size(0), -1)  # shape: (batch_size, 100)\n",
    "        x_out = self.dropout_pcat3(x_out)\n",
    "\n",
    "        # Pass through BiLSTM\n",
    "        bilstm_out, _ = self.bilstm(x_out)  # bilstm_out shape: (batch_size, seq_len, hidden_size*2)\n",
    "\n",
    "        # Use the last hidden state from both directions\n",
    "        bilstm_out = bilstm_out.squeeze(1)\n",
    "        \n",
    "        # Dense layer\n",
    "        x_out = self.kan(bilstm_out)  # shape: (batch_size, num_classes)\n",
    "        \n",
    "        return x_out\n",
    "\n",
    "# Hyperparams\n",
    "vocab_size = len(tokenizer)  # Vocabulary size of GPT-2 tokenizer\n",
    "embed_dim = 32  # Embedding dimension\n",
    "num_class = 2  # Number of classes (negative, positive)\n",
    "\n",
    "model = CustomCNN(vocab_size, embed_dim)\n",
    "model.to(device)"
   ]
  },
  {
   "cell_type": "code",
   "execution_count": 20,
   "metadata": {},
   "outputs": [
    {
     "name": "stderr",
     "output_type": "stream",
     "text": [
      "d:\\python22-23\\imgrecfastkan\\venv\\lib\\site-packages\\torch\\nn\\modules\\conv.py:456: UserWarning: Plan failed with a cudnnException: CUDNN_BACKEND_EXECUTION_PLAN_DESCRIPTOR: cudnnFinalize Descriptor Failed cudnn_status: CUDNN_STATUS_NOT_SUPPORTED (Triggered internally at C:\\actions-runner\\_work\\pytorch\\pytorch\\builder\\windows\\pytorch\\aten\\src\\ATen\\native\\cudnn\\Conv_v8.cpp:919.)\n",
      "  return F.conv2d(input, weight, bias, self.stride,\n"
     ]
    },
    {
     "data": {
      "text/plain": [
       "======================================================================================================================================================\n",
       "Layer (type:depth-idx)                             Kernel Shape              Input Shape               Output Shape              Param #\n",
       "======================================================================================================================================================\n",
       "CustomCNN                                          --                        [64, 256]                 [64, 2]                   --\n",
       "├─Embedding: 1-1                                   --                        [64, 256]                 [64, 256, 32]             1,608,224\n",
       "├─Conv2d: 1-2                                      [1, 32]                   [64, 1, 256, 32]          [64, 256, 256, 1]         8,448\n",
       "├─BatchNorm2d: 1-3                                 --                        [64, 256, 256, 1]         [64, 256, 256, 1]         512\n",
       "├─MaxPool1d: 1-4                                   2                         [64, 256, 256]            [64, 256, 128]            --\n",
       "├─Dropout: 1-5                                     --                        [64, 256, 128]            [64, 256, 128]            --\n",
       "├─Conv2d: 1-6                                      [3, 32]                   [64, 1, 256, 32]          [64, 256, 256, 1]         24,832\n",
       "├─BatchNorm2d: 1-7                                 --                        [64, 256, 256, 1]         [64, 256, 256, 1]         512\n",
       "├─MaxPool1d: 1-8                                   2                         [64, 256, 256]            [64, 256, 128]            --\n",
       "├─Dropout: 1-9                                     --                        [64, 256, 128]            [64, 256, 128]            --\n",
       "├─Conv2d: 1-10                                     [5, 32]                   [64, 1, 256, 32]          [64, 256, 256, 1]         41,216\n",
       "├─BatchNorm2d: 1-11                                --                        [64, 256, 256, 1]         [64, 256, 256, 1]         512\n",
       "├─MaxPool1d: 1-12                                  2                         [64, 256, 256]            [64, 256, 128]            --\n",
       "├─Dropout: 1-13                                    --                        [64, 256, 128]            [64, 256, 128]            --\n",
       "├─Conv2d: 1-14                                     [3, 3]                    [64, 768, 128, 1]         [64, 1024, 128, 1]        7,078,912\n",
       "├─BatchNorm2d: 1-15                                --                        [64, 1024, 128, 1]        [64, 1024, 128, 1]        2,048\n",
       "├─MaxPool2d: 1-16                                  [2, 1]                    [64, 1024, 128, 1]        [64, 1024, 64, 1]         --\n",
       "├─Dropout: 1-17                                    --                        [64, 1024, 64, 1]         [64, 1024, 64, 1]         --\n",
       "├─Conv2d: 1-18                                     [3, 3]                    [64, 1024, 64, 1]         [64, 2048, 64, 1]         18,876,416\n",
       "├─BatchNorm2d: 1-19                                --                        [64, 2048, 64, 1]         [64, 2048, 64, 1]         4,096\n",
       "├─MaxPool2d: 1-20                                  [2, 1]                    [64, 2048, 64, 1]         [64, 2048, 32, 1]         --\n",
       "├─Conv2d: 1-21                                     [3, 3]                    [64, 2048, 32, 1]         [64, 4096, 32, 1]         75,501,568\n",
       "├─BatchNorm2d: 1-22                                --                        [64, 4096, 32, 1]         [64, 4096, 32, 1]         8,192\n",
       "├─MaxPool2d: 1-23                                  [4, 1]                    [64, 4096, 32, 1]         [64, 4096, 8, 1]          --\n",
       "├─Dropout: 1-24                                    --                        [64, 32768]               [64, 32768]               --\n",
       "├─LSTM: 1-25                                       --                        [64, 32768]               [64, 2048]                276,840,448\n",
       "├─FastKAN: 1-26                                    --                        [64, 2048]                [64, 2]                   --\n",
       "│    └─ModuleList: 2-1                             --                        --                        --                        --\n",
       "│    │    └─FastKANLayer: 3-1                      --                        [64, 2048]                [64, 256]                 4,722,952\n",
       "│    │    └─FastKANLayer: 3-2                      --                        [64, 256]                 [64, 64]                  148,040\n",
       "│    │    └─FastKANLayer: 3-3                      --                        [64, 64]                  [64, 2]                   1,290\n",
       "======================================================================================================================================================\n",
       "Total params: 384,868,218\n",
       "Trainable params: 384,868,194\n",
       "Non-trainable params: 24\n",
       "Total mult-adds (T): 36.58\n",
       "======================================================================================================================================================\n",
       "Input size (MB): 0.13\n",
       "Forward/backward pass size (MB): 620.46\n",
       "Params size (MB): 1539.47\n",
       "Estimated Total Size (MB): 2160.07\n",
       "======================================================================================================================================================"
      ]
     },
     "execution_count": 20,
     "metadata": {},
     "output_type": "execute_result"
    }
   ],
   "source": [
    "from torchinfo import summary\n",
    "summary(model, input_size=(batch_size, max_l), dtypes=([torch.int64]), col_names=[\"kernel_size\", \"input_size\", \"output_size\", \"num_params\"])"
   ]
  },
  {
   "cell_type": "code",
   "execution_count": 21,
   "metadata": {},
   "outputs": [],
   "source": [
    "# Evaluation function\n",
    "def evaluate(model, test_loader):\n",
    "    model.eval()\n",
    "    correct = 0\n",
    "    total = 0\n",
    "    total_loss = 0\n",
    "    with torch.no_grad():\n",
    "        for texts, labels in test_loader:\n",
    "            outputs = model(texts)\n",
    "            loss = criterion(outputs, labels)\n",
    "            total_loss += loss.item()\n",
    "            correct += calculate_accuracy(outputs, labels)\n",
    "            total += labels.size(0)\n",
    "    accuracy = correct / total\n",
    "    avg_loss = total_loss / total\n",
    "    return accuracy, avg_loss"
   ]
  },
  {
   "cell_type": "code",
   "execution_count": 22,
   "metadata": {},
   "outputs": [
    {
     "name": "stderr",
     "output_type": "stream",
     "text": [
      "Epoch 1/100: 100%|██████████| 625/625 [02:20<00:00,  4.46it/s, accuracy=0.503, loss=0.0114]\n"
     ]
    },
    {
     "name": "stdout",
     "output_type": "stream",
     "text": [
      "Epoch 1, Loss: 0.011433841180801391, Accuracy: 0.502775\n",
      "Val_Loss: 0.010891866713762284, Val_Accuracy: 0.5047\n"
     ]
    },
    {
     "name": "stderr",
     "output_type": "stream",
     "text": [
      "Epoch 2/100: 100%|██████████| 625/625 [02:19<00:00,  4.48it/s, accuracy=0.501, loss=0.011]\n"
     ]
    },
    {
     "name": "stdout",
     "output_type": "stream",
     "text": [
      "Epoch 2, Loss: 0.010957223451137543, Accuracy: 0.50085\n",
      "Val_Loss: 0.010941378843784332, Val_Accuracy: 0.4973\n"
     ]
    },
    {
     "name": "stderr",
     "output_type": "stream",
     "text": [
      "Epoch 3/100: 100%|██████████| 625/625 [02:19<00:00,  4.47it/s, accuracy=0.5, loss=0.0109]  \n"
     ]
    },
    {
     "name": "stdout",
     "output_type": "stream",
     "text": [
      "Epoch 3, Loss: 0.010928444619476795, Accuracy: 0.500225\n",
      "Val_Loss: 0.011576780194044112, Val_Accuracy: 0.4973\n"
     ]
    },
    {
     "name": "stderr",
     "output_type": "stream",
     "text": [
      "Epoch 4/100: 100%|██████████| 625/625 [02:19<00:00,  4.47it/s, accuracy=0.501, loss=0.0109]\n"
     ]
    },
    {
     "name": "stdout",
     "output_type": "stream",
     "text": [
      "Epoch 4, Loss: 0.010903381125628948, Accuracy: 0.501125\n",
      "Val_Loss: 0.011010047656297683, Val_Accuracy: 0.5027\n"
     ]
    },
    {
     "name": "stderr",
     "output_type": "stream",
     "text": [
      "Epoch 5/100: 100%|██████████| 625/625 [02:20<00:00,  4.46it/s, accuracy=0.5, loss=0.0109]  \n"
     ]
    },
    {
     "name": "stdout",
     "output_type": "stream",
     "text": [
      "Epoch 5, Loss: 0.010880870258808135, Accuracy: 0.50045\n",
      "Val_Loss: 0.010880904734134673, Val_Accuracy: 0.5027\n"
     ]
    },
    {
     "name": "stderr",
     "output_type": "stream",
     "text": [
      "Epoch 6/100:  45%|████▍     | 281/625 [01:03<01:17,  4.43it/s, accuracy=0.508, loss=0.0109]\n"
     ]
    },
    {
     "ename": "KeyboardInterrupt",
     "evalue": "",
     "output_type": "error",
     "traceback": [
      "\u001B[1;31m---------------------------------------------------------------------------\u001B[0m",
      "\u001B[1;31mKeyboardInterrupt\u001B[0m                         Traceback (most recent call last)",
      "Cell \u001B[1;32mIn[22], line 34\u001B[0m\n\u001B[0;32m     31\u001B[0m loss\u001B[38;5;241m.\u001B[39mbackward()\n\u001B[0;32m     32\u001B[0m optimizer\u001B[38;5;241m.\u001B[39mstep()\n\u001B[1;32m---> 34\u001B[0m total_loss \u001B[38;5;241m+\u001B[39m\u001B[38;5;241m=\u001B[39m \u001B[43mloss\u001B[49m\u001B[38;5;241;43m.\u001B[39;49m\u001B[43mitem\u001B[49m\u001B[43m(\u001B[49m\u001B[43m)\u001B[49m\n\u001B[0;32m     35\u001B[0m correct_predictions \u001B[38;5;241m+\u001B[39m\u001B[38;5;241m=\u001B[39m calculate_accuracy(outputs, labels)\n\u001B[0;32m     36\u001B[0m total_predictions \u001B[38;5;241m+\u001B[39m\u001B[38;5;241m=\u001B[39m labels\u001B[38;5;241m.\u001B[39msize(\u001B[38;5;241m0\u001B[39m)\n",
      "\u001B[1;31mKeyboardInterrupt\u001B[0m: "
     ]
    }
   ],
   "source": [
    "# Define loss function and optimizer\n",
    "criterion = nn.CrossEntropyLoss()\n",
    "#optimizer = optim.RAdam(model.parameters(), lr=4e-3, weight_decay=1e-4, decoupled_weight_decay=True)\n",
    "optimizer = optim.AdamW(model.parameters(), lr=1e-3, weight_decay=1e-4)\n",
    "#optimizer = optim.SparseAdam(model.parameters(), lr=1e-3)\n",
    "\n",
    "# Learning rate decay\n",
    "scheduler = optim.lr_scheduler.ExponentialLR(optimizer, gamma=0.85)\n",
    "\n",
    "# Accuracy calculation\n",
    "def calculate_accuracy(preds, labels):\n",
    "    _, predicted = torch.max(preds, 1)\n",
    "    correct = (predicted == labels).sum().item()\n",
    "    return correct\n",
    "\n",
    "# Training loop\n",
    "num_epochs = 100\n",
    "model_history = []\n",
    "\n",
    "for epoch in range(num_epochs):\n",
    "    model.train()\n",
    "    total_loss = 0\n",
    "    correct_predictions = 0\n",
    "    total_predictions = 0\n",
    "\n",
    "    with tqdm(train_loader, desc=f\"Epoch {epoch+1}/{num_epochs}\") as pbar:\n",
    "        for texts, labels in pbar:\n",
    "            optimizer.zero_grad()\n",
    "            outputs = model(texts)\n",
    "            loss = criterion(outputs, labels)\n",
    "            loss.backward()\n",
    "            optimizer.step()\n",
    "            \n",
    "            total_loss += loss.item()\n",
    "            correct_predictions += calculate_accuracy(outputs, labels)\n",
    "            total_predictions += labels.size(0)\n",
    "            \n",
    "            accuracy = correct_predictions / total_predictions\n",
    "            \n",
    "            pbar.set_postfix(loss=total_loss/total_predictions, accuracy=accuracy)\n",
    "    scheduler.step()\n",
    "\n",
    "    model_history.append(evaluate(model, test_loader))\n",
    "    print(f'Epoch {epoch+1}, Loss: {total_loss/(len(train_loader)*batch_size)}, Accuracy: {accuracy}')\n",
    "    print(f'Val_Loss: {model_history[epoch][1]}, Val_Accuracy: {model_history[epoch][0]}')\n"
   ]
  },
  {
   "cell_type": "code",
   "execution_count": 36,
   "metadata": {},
   "outputs": [
    {
     "data": {
      "image/png": "[encoded data removed]",
      "text/plain": [
       "<Figure size 800x500 with 2 Axes>"
      ]
     },
     "metadata": {},
     "output_type": "display_data"
    }
   ],
   "source": [
    "import matplotlib.pyplot as plt\n",
    "\n",
    "#Plot val acc and loss\n",
    "accuracy = [entry[0] for entry in model_history]\n",
    "loss = [entry[1] for entry in model_history]\n",
    "\n",
    "fig, ax1 = plt.subplots(figsize=(8, 5))\n",
    "\n",
    "# Plot accuracy on primary y\n",
    "ax1.set_xlabel('Epoch')\n",
    "ax1.set_ylabel('Accuracy', color='tab:blue')\n",
    "ax1.plot(accuracy, label='Accuracy', color='tab:blue')\n",
    "ax1.tick_params(axis='y', labelcolor='tab:blue')\n",
    "\n",
    "# Plot the loss on secondary y\n",
    "ax2 = ax1.twinx()\n",
    "ax2.set_ylabel('Loss', color='tab:red')\n",
    "ax2.plot(loss, label='Loss', color='tab:red')\n",
    "ax2.tick_params(axis='y', labelcolor='tab:red')\n",
    "\n",
    "plt.title('Model Accuracy and Loss')\n",
    "fig.tight_layout()\n",
    "plt.show()"
   ]
  },
  {
   "cell_type": "code",
   "execution_count": 52,
   "metadata": {},
   "outputs": [],
   "source": [
    "torch.save(model, './model_saves/model_complete.pth')"
   ]
  },
  {
   "cell_type": "code",
   "execution_count": 43,
   "metadata": {},
   "outputs": [],
   "source": [
    "del model"
   ]
  },
  {
   "cell_type": "code",
   "execution_count": 44,
   "metadata": {},
   "outputs": [],
   "source": [
    "import gc         # garbage collect library\n",
    "gc.collect()\n",
    "torch.cuda.empty_cache() "
   ]
  },
  {
   "cell_type": "code",
   "execution_count": 45,
   "metadata": {},
   "outputs": [],
   "source": [
    "with torch.no_grad():\n",
    "    torch.cuda.empty_cache()"
   ]
  },
  {
   "cell_type": "code",
   "execution_count": 27,
   "metadata": {},
   "outputs": [],
   "source": [
    "from numba import cuda\n",
    " \n",
    "cuda.select_device(0) # choosing second GPU \n",
    "cuda.close()"
   ]
  },
  {
   "cell_type": "code",
   "execution_count": 36,
   "metadata": {},
   "outputs": [
    {
     "name": "stdout",
     "output_type": "stream",
     "text": [
      "<CUDA device 0 'b'NVIDIA GeForce RTX 3080 Laptop GPU''>\n"
     ]
    }
   ],
   "source": [
    "device = cuda.get_current_device()\n",
    "device.reset()\n",
    "cuda.close()\n",
    "print(device)"
   ]
  },
  {
   "cell_type": "code",
   "execution_count": null,
   "metadata": {},
   "outputs": [],
   "source": []
  }
 ],
 "metadata": {
  "kernelspec": {
   "display_name": "Python 3 (ipykernel)",
   "language": "python",
   "name": "python3"
  },
  "language_info": {
   "codemirror_mode": {
    "name": "ipython",
    "version": 3
   },
   "file_extension": ".py",
   "mimetype": "text/x-python",
   "name": "python",
   "nbconvert_exporter": "python",
   "pygments_lexer": "ipython3",
   "version": "3.9.5"
  }
 },
 "nbformat": 4,
 "nbformat_minor": 4
}